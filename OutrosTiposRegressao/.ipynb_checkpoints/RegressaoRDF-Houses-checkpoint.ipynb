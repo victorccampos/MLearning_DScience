{
 "cells": [
  {
   "cell_type": "markdown",
   "id": "29b031fb-2c4f-40d9-b5c9-ade4dffc54e2",
   "metadata": {},
   "source": [
    "# Random Forest Regressor aplicada a base de preço casas"
   ]
  },
  {
   "cell_type": "code",
   "execution_count": 1,
   "id": "9263ef9c-25ed-491b-9c31-b01e0e5b41b7",
   "metadata": {},
   "outputs": [],
   "source": [
    "# Numérico\n",
    "import pandas as pd\n",
    "import numpy as np\n",
    "\n",
    "# Gráficos\n",
    "import matplotlib.pyplot as plt\n",
    "import plotly.express as px \n",
    "\n",
    "# Algoritmos de Aprendizagem\n",
    "from sklearn.model_selection import train_test_split\n",
    "from sklearn.tree import DecisionTreeRegressor\n",
    "\n",
    "# Metricas \n",
    "from sklearn.metrics import mean_absolute_error, mean_squared_error"
   ]
  },
  {
   "cell_type": "code",
   "execution_count": 2,
   "id": "b482220d-dbd4-45fd-be3d-1eee8e4df354",
   "metadata": {},
   "outputs": [
    {
     "data": {
      "text/plain": [
       "((15129, 16), (6484, 16))"
      ]
     },
     "execution_count": 2,
     "metadata": {},
     "output_type": "execute_result"
    }
   ],
   "source": [
    "db_casas = pd.read_csv('house_prices.csv')\n",
    "\n",
    "# predictor values in matrix shape\n",
    "X_casas = db_casas.iloc[:,3:19].values\n",
    "\n",
    "# prices\n",
    "y_casas = db_casas.iloc[:,2].values\n",
    "\n",
    "## Divisao da base\n",
    "X_casas_treinamento, X_casas_teste, y_casas_treinamento, y_casas_test = train_test_split(X_casas, y_casas, test_size=0.3, random_state=0)\n",
    "X_casas_treinamento.shape, X_casas_teste.shape"
   ]
  },
  {
   "cell_type": "markdown",
   "id": "9f00d438-3ca8-48f4-a7f3-450c7c5eb542",
   "metadata": {},
   "source": [
    "```X_casas_treinamento``` : Caracter"
   ]
  }
 ],
 "metadata": {
  "kernelspec": {
   "display_name": "Python 3 (ipykernel)",
   "language": "python",
   "name": "python3"
  },
  "language_info": {
   "codemirror_mode": {
    "name": "ipython",
    "version": 3
   },
   "file_extension": ".py",
   "mimetype": "text/x-python",
   "name": "python",
   "nbconvert_exporter": "python",
   "pygments_lexer": "ipython3",
   "version": "3.12.4"
  }
 },
 "nbformat": 4,
 "nbformat_minor": 5
}
