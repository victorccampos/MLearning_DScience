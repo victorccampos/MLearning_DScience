{
 "cells": [
  {
   "cell_type": "markdown",
   "id": "af0f04a6-f146-4682-be17-0789cafcb95b",
   "metadata": {},
   "source": [
    "**Carregar um classificador**"
   ]
  },
  {
   "cell_type": "code",
   "execution_count": 1,
   "id": "ce3d6dae-1c59-441d-bb66-6041a1b15b40",
   "metadata": {},
   "outputs": [],
   "source": [
    "import pickle \n",
    "import numpy as np\n",
    "import os"
   ]
  },
  {
   "cell_type": "markdown",
   "id": "619d8a80-0cce-4737-bc30-fe11861f2f13",
   "metadata": {},
   "source": [
    "Carregar a base novamente por motivos de aprendizado:"
   ]
  },
  {
   "cell_type": "code",
   "execution_count": 2,
   "id": "a288f52c-a905-46fb-b842-c120f3a61605",
   "metadata": {},
   "outputs": [
    {
     "data": {
      "text/plain": [
       "((2000, 3), (2000,))"
      ]
     },
     "execution_count": 2,
     "metadata": {},
     "output_type": "execute_result"
    }
   ],
   "source": [
    "with open('credit.pkl', 'rb') as f:\n",
    "    X_credit_train, y_credit_train, X_credit_test, y_credit_test = pickle.load(f)\n",
    "\n",
    "X_credit = np.concatenate([X_credit_train, X_credit_test])\n",
    "y_credit = np.concatenate([y_credit_train, y_credit_test])\n",
    "\n",
    "X_credit.shape, y_credit.shape"
   ]
  },
  {
   "cell_type": "code",
   "execution_count": 3,
   "id": "f277816d-078c-48fc-ab03-31ea7c7618bb",
   "metadata": {},
   "outputs": [],
   "source": [
    "rede_neural = pickle.load(open('rede_neural_final.sav', 'rb'))\n",
    "arvore = pickle.load(open('arvore_final.sav', 'rb'))\n",
    "svm = pickle.load(open('support_vector_final.sav', 'rb'))"
   ]
  },
  {
   "cell_type": "code",
   "execution_count": 4,
   "id": "9b87085d-c4d3-4d61-b547-78966c6d8ed6",
   "metadata": {},
   "outputs": [
    {
     "data": {
      "text/plain": [
       "(array([-1.3754462 ,  0.50631087,  0.10980934]), (3,))"
      ]
     },
     "execution_count": 4,
     "metadata": {},
     "output_type": "execute_result"
    }
   ],
   "source": [
    "novo_registro = X_credit[0]\n",
    "novo_registro, novo_registro.shape"
   ]
  },
  {
   "cell_type": "markdown",
   "id": "4d2b273f-fc1a-4cd7-9dd5-e479a576cc0d",
   "metadata": {},
   "source": [
    "O array está em 1D. o método `predict` exige 2D e para convertes usamos o método do numpy `.reshape(-1,1)`"
   ]
  },
  {
   "cell_type": "code",
   "execution_count": 5,
   "id": "523222e4-a303-410c-be85-74e1415ed575",
   "metadata": {},
   "outputs": [
    {
     "name": "stdout",
     "output_type": "stream",
     "text": [
      "Rede Neural [0]\n",
      "Arvore [0]\n",
      "SVM [0]\n"
     ]
    }
   ],
   "source": [
    "### Previsao com a rede neural\n",
    "novo_registro = novo_registro.reshape(1, -1) # Uma linha e Três colunas\n",
    "print(f'Rede Neural {rede_neural.predict(novo_registro)}') \n",
    "print(f'Arvore {arvore.predict(novo_registro)}')\n",
    "print(f'SVM {svm.predict(novo_registro)}')"
   ]
  },
  {
   "cell_type": "markdown",
   "id": "d74589e7-1d36-4249-92b2-016ab64a1883",
   "metadata": {},
   "source": [
    "# Combinação de Classificadores"
   ]
  },
  {
   "cell_type": "code",
   "execution_count": 6,
   "id": "5edf02ed-3a94-4839-ac81-bd9e1d572c3d",
   "metadata": {},
   "outputs": [
    {
     "data": {
      "text/plain": [
       "(array([0], dtype=int64), array([0], dtype=int64), array([0], dtype=int64))"
      ]
     },
     "execution_count": 6,
     "metadata": {},
     "output_type": "execute_result"
    }
   ],
   "source": [
    "paga = 0\n",
    "nao_paga = 1 \n",
    "\n",
    "resposta_rede = rede_neural.predict(novo_registro)\n",
    "resposta_arv = arvore.predict(novo_registro)\n",
    "resposta_svm = svm.predict(novo_registro)\n",
    "\n",
    "resposta_rede, resposta_arv, resposta_svm"
   ]
  },
  {
   "cell_type": "code",
   "execution_count": 7,
   "id": "91f9ae6a-1da4-48d5-9ba8-8a48aad0c759",
   "metadata": {},
   "outputs": [
    {
     "name": "stdout",
     "output_type": "stream",
     "text": [
      "Cliente pagará o empréstimo\n"
     ]
    }
   ],
   "source": [
    "## \n",
    "# Rede neural\n",
    "if resposta_rede[0] == 1:\n",
    "    nao_paga += 1\n",
    "else:\n",
    "    paga += 1\n",
    "# arvore\n",
    "if resposta_arv[0] == 1:\n",
    "    nao_paga += 1\n",
    "else:\n",
    "    paga += 1\n",
    "# SVM \n",
    "if resposta_svm[0] == 1:\n",
    "    nao_paga += 1\n",
    "else:\n",
    "    paga += 1    \n",
    "\n",
    "### Mensagem\n",
    "if paga > nao_paga:\n",
    "    print(\"Cliente pagará o empréstimo\")\n",
    "elif paga == nao_paga:\n",
    "    print(f'empate')\n",
    "else:\n",
    "    print(\"cliente não pagará o empréstimo\")"
   ]
  },
  {
   "cell_type": "markdown",
   "id": "28db6c9b-d5e0-4cb1-b3ba-7810fa63d67d",
   "metadata": {},
   "source": [
    "## Rejeição  \n",
    "\n",
    "Para trabalhar com a rejeição precisamos trabalhar com *probabilidade* e o _scikit learn_ tem isso _built-in_ em todos os seus classificadores.  \n",
    "\n",
    "**Nota**: O SVM treinado anteriormente não tinha nos parâmetros o `propabilitity = True`, que é `False` por _default_, sendo necessário portanto, editá-lo para ter. "
   ]
  },
  {
   "cell_type": "code",
   "execution_count": 8,
   "id": "79c6156a-808a-4580-846d-cfc564a93403",
   "metadata": {},
   "outputs": [
    {
     "data": {
      "text/plain": [
       "array([[1.00000000e+00, 3.83755356e-16]])"
      ]
     },
     "execution_count": 8,
     "metadata": {},
     "output_type": "execute_result"
    }
   ],
   "source": [
    "prob_rede_neural = rede_neural.predict_proba(novo_registro)\n",
    "prob_rede_neural"
   ]
  },
  {
   "cell_type": "code",
   "execution_count": 9,
   "id": "43521ff3-3825-49f0-a56c-2a69f28d3229",
   "metadata": {},
   "outputs": [
    {
     "data": {
      "text/plain": [
       "0.9999999999999997"
      ]
     },
     "execution_count": 9,
     "metadata": {},
     "output_type": "execute_result"
    }
   ],
   "source": [
    "confianca_rede_neural = prob_rede_neural.max()\n",
    "confianca_rede_neural\n",
    "# 99% de chance de ser um registro que paga o empréstimo"
   ]
  },
  {
   "cell_type": "code",
   "execution_count": 10,
   "id": "54e60c29-bf76-485c-8444-d55fbaa562d1",
   "metadata": {},
   "outputs": [
    {
     "data": {
      "text/plain": [
       "1.0"
      ]
     },
     "execution_count": 10,
     "metadata": {},
     "output_type": "execute_result"
    }
   ],
   "source": [
    "prob_arvore = arvore.predict_proba(novo_registro)\n",
    "confianca_arvore = prob_arvore.max()\n",
    "confianca_arvore"
   ]
  },
  {
   "cell_type": "code",
   "execution_count": 13,
   "id": "c6f6f96d-6739-4e6c-b91e-fcac3fad332d",
   "metadata": {},
   "outputs": [
    {
     "data": {
      "text/plain": [
       "0.999997556232365"
      ]
     },
     "execution_count": 13,
     "metadata": {},
     "output_type": "execute_result"
    }
   ],
   "source": [
    "prob_svm = svm.predict_proba(novo_registro)\n",
    "confianca_svm = prob_svm.max()\n",
    "confianca_svm"
   ]
  },
  {
   "cell_type": "code",
   "execution_count": 17,
   "id": "e5a9866f-692e-467a-9e11-6f89a4967f9a",
   "metadata": {},
   "outputs": [
    {
     "name": "stdout",
     "output_type": "stream",
     "text": [
      "Cliente pagará o empréstimo baseado em 2\n"
     ]
    }
   ],
   "source": [
    "## Setando a confiança mínima como um pouco maior que svm\n",
    "confianca_minima = 0.9999999\n",
    "# contagem dos algoritmos utilizados\n",
    "algoritmos = 0 \n",
    "\n",
    "# Rede neural\n",
    "if confianca_rede_neural > confianca_minima:\n",
    "    algoritmos += 1\n",
    "    if resposta_rede[0] == 1:\n",
    "        nao_paga += 1\n",
    "    else:\n",
    "        paga += 1\n",
    "# arvore\n",
    "if confianca_arvore > confianca_minima:\n",
    "    algoritmos += 1\n",
    "    if resposta_arv[0] == 1:\n",
    "        nao_paga += 1\n",
    "    else:\n",
    "        paga += 1\n",
    "\n",
    "# SVM \n",
    "if confianca_svm > confianca_minima:\n",
    "    algoritmos += 1\n",
    "    if resposta_svm[0] == 1:\n",
    "        nao_paga += 1\n",
    "    else:\n",
    "        paga += 1   \n",
    "\n",
    "### Mensagem\n",
    "if paga > nao_paga:\n",
    "    print(\"Cliente pagará o empréstimo baseado em {}\".format(algoritmos))\n",
    "elif paga == nao_paga:\n",
    "    print(f'empate')\n",
    "else:\n",
    "    print(\"cliente não pagará o empréstimo baseados em {} algoritmos\".format(algoritmos))"
   ]
  }
 ],
 "metadata": {
  "kernelspec": {
   "display_name": "Python 3 (ipykernel)",
   "language": "python",
   "name": "python3"
  },
  "language_info": {
   "codemirror_mode": {
    "name": "ipython",
    "version": 3
   },
   "file_extension": ".py",
   "mimetype": "text/x-python",
   "name": "python",
   "nbconvert_exporter": "python",
   "pygments_lexer": "ipython3",
   "version": "3.12.4"
  }
 },
 "nbformat": 4,
 "nbformat_minor": 5
}
