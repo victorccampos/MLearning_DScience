{
 "cells": [
  {
   "cell_type": "markdown",
   "metadata": {},
   "source": [
    "### Testar o modelo criado"
   ]
  },
  {
   "cell_type": "code",
   "execution_count": 1,
   "metadata": {},
   "outputs": [],
   "source": [
    "import pandas as pd\n",
    "import string # pré-processamento\n",
    "import spacy\n",
    "import random \n",
    "import seaborn as sns\n",
    "import matplotlib.pyplot as plt\n",
    "import numpy as np\n",
    "\n",
    "from spacy.lang.pt.stop_words import STOP_WORDS"
   ]
  },
  {
   "cell_type": "code",
   "execution_count": 2,
   "metadata": {},
   "outputs": [],
   "source": [
    "PLN = spacy.load('pt_core_news_sm')"
   ]
  },
  {
   "cell_type": "code",
   "execution_count": 3,
   "metadata": {},
   "outputs": [],
   "source": [
    "def pre_processamento(texto: str) -> list:\n",
    "    \"\"\"\n",
    "    Percorrer os valores de uma str e adiciona o lema destes na lista\n",
    "    \"\"\" \n",
    "    texto = texto.lower()\n",
    "    documento = PLN(text=texto)\n",
    "\n",
    "    lista = []\n",
    "    # Tokenizacao\n",
    "    for token in documento:\n",
    "        lista.append(token.lemma_)\n",
    "    \n",
    "    # Remocao de Stop word\n",
    "    lista = [palavra for palavra in lista if palavra not in STOP_WORDS and palavra not in string.punctuation]\n",
    "    \n",
    "    # Formato de texto -- # '59'.isdigit() > True\n",
    "    lista = ' '.join( str(elemento) for elemento in lista if not elemento.isdigit() )\n",
    "    \n",
    "    return lista"
   ]
  },
  {
   "cell_type": "code",
   "execution_count": 4,
   "metadata": {},
   "outputs": [
    {
     "data": {
      "text/plain": [
       "<spacy.lang.pt.Portuguese at 0x74bd17996bd0>"
      ]
     },
     "execution_count": 4,
     "metadata": {},
     "output_type": "execute_result"
    }
   ],
   "source": [
    "modelo_carregado = spacy.load(\"trained_model\")\n",
    "modelo_carregado"
   ]
  },
  {
   "cell_type": "code",
   "execution_count": 5,
   "metadata": {},
   "outputs": [
    {
     "data": {
      "text/plain": [
       "('adorar cor de o olho', 'apavorado mestrado')"
      ]
     },
     "execution_count": 5,
     "metadata": {},
     "output_type": "execute_result"
    }
   ],
   "source": [
    "texto_alegre = 'Eu adoro a cor dos seus olhos'\n",
    "texto_triste = 'Estou apavorado com o mestrado'\n",
    "\n",
    "texto_alegre = pre_processamento(texto=texto_alegre)\n",
    "texto_triste = pre_processamento(texto=texto_triste)\n",
    "texto_alegre, texto_triste"
   ]
  },
  {
   "cell_type": "code",
   "execution_count": 6,
   "metadata": {},
   "outputs": [
    {
     "name": "stdout",
     "output_type": "stream",
     "text": [
      "previsao1.cats={'ALEGRIA': 1.0, 'MEDO': 1.721377529406709e-08}\n",
      "previsao2.cats={'ALEGRIA': 0.02342686802148819, 'MEDO': 0.9765731692314148}\n"
     ]
    }
   ],
   "source": [
    "previsao1, previsao2 = modelo_carregado(texto_alegre), modelo_carregado(texto_triste)\n",
    "\n",
    "print(f\"{previsao1.cats=}\")\n",
    "print(f\"{previsao2.cats=}\")"
   ]
  },
  {
   "cell_type": "markdown",
   "metadata": {},
   "source": [
    "## Avaliação do Modelo"
   ]
  },
  {
   "cell_type": "code",
   "execution_count": 7,
   "metadata": {},
   "outputs": [
    {
     "data": {
      "text/html": [
       "<div>\n",
       "<style scoped>\n",
       "    .dataframe tbody tr th:only-of-type {\n",
       "        vertical-align: middle;\n",
       "    }\n",
       "\n",
       "    .dataframe tbody tr th {\n",
       "        vertical-align: top;\n",
       "    }\n",
       "\n",
       "    .dataframe thead th {\n",
       "        text-align: right;\n",
       "    }\n",
       "</style>\n",
       "<table border=\"1\" class=\"dataframe\">\n",
       "  <thead>\n",
       "    <tr style=\"text-align: right;\">\n",
       "      <th></th>\n",
       "      <th>texto</th>\n",
       "      <th>emocao</th>\n",
       "    </tr>\n",
       "  </thead>\n",
       "  <tbody>\n",
       "    <tr>\n",
       "      <th>0</th>\n",
       "      <td>trabalho agradável</td>\n",
       "      <td>alegria</td>\n",
       "    </tr>\n",
       "    <tr>\n",
       "      <th>1</th>\n",
       "      <td>gostar ficar em o aconchego</td>\n",
       "      <td>alegria</td>\n",
       "    </tr>\n",
       "    <tr>\n",
       "      <th>2</th>\n",
       "      <td>fiz adesão a o curso hoje</td>\n",
       "      <td>alegria</td>\n",
       "    </tr>\n",
       "    <tr>\n",
       "      <th>3</th>\n",
       "      <td>admirar</td>\n",
       "      <td>alegria</td>\n",
       "    </tr>\n",
       "    <tr>\n",
       "      <th>4</th>\n",
       "      <td>adorar</td>\n",
       "      <td>alegria</td>\n",
       "    </tr>\n",
       "    <tr>\n",
       "      <th>...</th>\n",
       "      <td>...</td>\n",
       "      <td>...</td>\n",
       "    </tr>\n",
       "    <tr>\n",
       "      <th>191</th>\n",
       "      <td>chocado amedrontar assassinato brutal</td>\n",
       "      <td>medo</td>\n",
       "    </tr>\n",
       "    <tr>\n",
       "      <th>192</th>\n",
       "      <td>preciso afugentar ímpeto medo de o inferno</td>\n",
       "      <td>medo</td>\n",
       "    </tr>\n",
       "    <tr>\n",
       "      <th>193</th>\n",
       "      <td>político força afugentar amedrontar</td>\n",
       "      <td>medo</td>\n",
       "    </tr>\n",
       "    <tr>\n",
       "      <th>194</th>\n",
       "      <td>objetivo de isso amedrontar</td>\n",
       "      <td>medo</td>\n",
       "    </tr>\n",
       "    <tr>\n",
       "      <th>195</th>\n",
       "      <td>apavorar</td>\n",
       "      <td>medo</td>\n",
       "    </tr>\n",
       "  </tbody>\n",
       "</table>\n",
       "<p>196 rows × 2 columns</p>\n",
       "</div>"
      ],
      "text/plain": [
       "                                          texto   emocao\n",
       "0                            trabalho agradável  alegria\n",
       "1                   gostar ficar em o aconchego  alegria\n",
       "2                     fiz adesão a o curso hoje  alegria\n",
       "3                                       admirar  alegria\n",
       "4                                        adorar  alegria\n",
       "..                                          ...      ...\n",
       "191       chocado amedrontar assassinato brutal     medo\n",
       "192  preciso afugentar ímpeto medo de o inferno     medo\n",
       "193         político força afugentar amedrontar     medo\n",
       "194                 objetivo de isso amedrontar     medo\n",
       "195                                    apavorar     medo\n",
       "\n",
       "[196 rows x 2 columns]"
      ]
     },
     "execution_count": 7,
     "metadata": {},
     "output_type": "execute_result"
    }
   ],
   "source": [
    "# Carregamento da base e pré-processamento\n",
    "db = pd.read_csv('base_treinamento.txt', encoding='utf-8')\n",
    "db['texto'] = db['texto'].apply(pre_processamento)\n",
    "db"
   ]
  },
  {
   "cell_type": "code",
   "execution_count": 8,
   "metadata": {},
   "outputs": [
    {
     "data": {
      "text/plain": [
       "[{'ALEGRIA': 1.0, 'MEDO': 5.920351320298778e-09},\n",
       " {'ALEGRIA': 1.0, 'MEDO': 2.511861296738971e-08},\n",
       " {'ALEGRIA': 1.0, 'MEDO': 2.5298726669120697e-08},\n",
       " {'ALEGRIA': 1.0, 'MEDO': 2.6770619498961423e-08},\n",
       " {'ALEGRIA': 1.0, 'MEDO': 7.049444583628883e-09},\n",
       " {'ALEGRIA': 1.0, 'MEDO': 3.2818135764500767e-08},\n",
       " {'ALEGRIA': 1.0, 'MEDO': 1.721377529406709e-08},\n",
       " {'ALEGRIA': 1.0, 'MEDO': 3.2386953563445786e-08},\n",
       " {'ALEGRIA': 1.0, 'MEDO': 5.626999755037332e-09},\n",
       " {'ALEGRIA': 1.0, 'MEDO': 4.165410416590021e-08},\n",
       " {'ALEGRIA': 1.0, 'MEDO': 1.0698840924305841e-08},\n",
       " {'ALEGRIA': 1.0, 'MEDO': 5.423698379303232e-09},\n",
       " {'ALEGRIA': 1.0, 'MEDO': 2.1836534802588403e-09},\n",
       " {'ALEGRIA': 1.0, 'MEDO': 1.6920157719368945e-08},\n",
       " {'ALEGRIA': 0.9999998807907104, 'MEDO': 1.4140091764147655e-07},\n",
       " {'ALEGRIA': 1.0, 'MEDO': 2.3061877740815362e-08},\n",
       " {'ALEGRIA': 1.0, 'MEDO': 2.071314675333724e-08},\n",
       " {'ALEGRIA': 1.0, 'MEDO': 7.851483019294392e-09},\n",
       " {'ALEGRIA': 1.0, 'MEDO': 2.8430669374301942e-08},\n",
       " {'ALEGRIA': 1.0, 'MEDO': 7.1941057555591215e-09},\n",
       " {'ALEGRIA': 1.0, 'MEDO': 1.2572361818286026e-08},\n",
       " {'ALEGRIA': 1.0, 'MEDO': 2.809065691167234e-08},\n",
       " {'ALEGRIA': 1.0, 'MEDO': 3.098045198157706e-08},\n",
       " {'ALEGRIA': 1.0, 'MEDO': 1.8104305610222582e-08},\n",
       " {'ALEGRIA': 1.0, 'MEDO': 4.3040309094521945e-09},\n",
       " {'ALEGRIA': 1.0, 'MEDO': 1.4884215637778198e-08},\n",
       " {'ALEGRIA': 1.0, 'MEDO': 2.2741478034049578e-08},\n",
       " {'ALEGRIA': 1.0, 'MEDO': 1.5666687502857712e-08},\n",
       " {'ALEGRIA': 1.0, 'MEDO': 2.5169304862515673e-08},\n",
       " {'ALEGRIA': 1.0, 'MEDO': 9.78737002554908e-09},\n",
       " {'ALEGRIA': 1.0, 'MEDO': 2.503161766753692e-08},\n",
       " {'ALEGRIA': 1.0, 'MEDO': 9.127601785507977e-09},\n",
       " {'ALEGRIA': 1.0, 'MEDO': 3.1809157974294067e-08},\n",
       " {'ALEGRIA': 1.0, 'MEDO': 9.756058183540972e-09},\n",
       " {'ALEGRIA': 1.0, 'MEDO': 1.0026487196057587e-08},\n",
       " {'ALEGRIA': 1.0, 'MEDO': 2.3085423350721612e-08},\n",
       " {'ALEGRIA': 1.0, 'MEDO': 3.126384129359394e-08},\n",
       " {'ALEGRIA': 1.0, 'MEDO': 2.957968980865644e-08},\n",
       " {'ALEGRIA': 1.0, 'MEDO': 2.372654961391163e-08},\n",
       " {'ALEGRIA': 1.0, 'MEDO': 4.263742425791861e-08},\n",
       " {'ALEGRIA': 1.0, 'MEDO': 1.0925224280811108e-08},\n",
       " {'ALEGRIA': 1.0, 'MEDO': 2.068850690761792e-08},\n",
       " {'ALEGRIA': 1.0, 'MEDO': 2.070832749723195e-08},\n",
       " {'ALEGRIA': 1.0, 'MEDO': 2.355601047554501e-08},\n",
       " {'ALEGRIA': 1.0, 'MEDO': 1.1290749668546596e-08},\n",
       " {'ALEGRIA': 1.0, 'MEDO': 2.1613820067045708e-08},\n",
       " {'ALEGRIA': 1.0, 'MEDO': 1.0542739126151446e-08},\n",
       " {'ALEGRIA': 1.0, 'MEDO': 2.8465995782767095e-08},\n",
       " {'ALEGRIA': 1.0, 'MEDO': 2.19854907612671e-08},\n",
       " {'ALEGRIA': 1.0, 'MEDO': 5.325321517091197e-09},\n",
       " {'ALEGRIA': 1.0, 'MEDO': 2.4060414105520067e-08},\n",
       " {'ALEGRIA': 1.0, 'MEDO': 8.483391766844761e-09},\n",
       " {'ALEGRIA': 1.0, 'MEDO': 2.5496078137621225e-08},\n",
       " {'ALEGRIA': 1.0, 'MEDO': 1.953156214540286e-08},\n",
       " {'ALEGRIA': 1.0, 'MEDO': 2.3482709110567157e-08},\n",
       " {'ALEGRIA': 1.0, 'MEDO': 4.329771385869208e-08},\n",
       " {'ALEGRIA': 1.0, 'MEDO': 1.2984720854092302e-08},\n",
       " {'ALEGRIA': 1.0, 'MEDO': 1.684683326175218e-08},\n",
       " {'ALEGRIA': 1.0, 'MEDO': 2.3124332670931835e-08},\n",
       " {'ALEGRIA': 1.0, 'MEDO': 5.284383597370379e-09},\n",
       " {'ALEGRIA': 1.0, 'MEDO': 6.268434216138985e-09},\n",
       " {'ALEGRIA': 1.0, 'MEDO': 2.2066952709565157e-08},\n",
       " {'ALEGRIA': 1.0, 'MEDO': 9.999769012836168e-09},\n",
       " {'ALEGRIA': 1.0, 'MEDO': 1.7607734159597044e-09},\n",
       " {'ALEGRIA': 1.0, 'MEDO': 9.660529265431705e-09},\n",
       " {'ALEGRIA': 1.0, 'MEDO': 1.4180287166709604e-08},\n",
       " {'ALEGRIA': 1.0, 'MEDO': 2.2948757560925515e-08},\n",
       " {'ALEGRIA': 1.0, 'MEDO': 2.3425851480851634e-08},\n",
       " {'ALEGRIA': 1.0, 'MEDO': 1.5232537009524094e-08},\n",
       " {'ALEGRIA': 1.0, 'MEDO': 8.698993525513288e-09},\n",
       " {'ALEGRIA': 1.0, 'MEDO': 4.703938571992694e-09},\n",
       " {'ALEGRIA': 1.0, 'MEDO': 5.459536822627342e-09},\n",
       " {'ALEGRIA': 1.0, 'MEDO': 2.8508976512853224e-08},\n",
       " {'ALEGRIA': 1.0, 'MEDO': 1.1008539857471078e-08},\n",
       " {'ALEGRIA': 1.0, 'MEDO': 3.973714868266143e-08},\n",
       " {'ALEGRIA': 1.0, 'MEDO': 2.6889702908761137e-08},\n",
       " {'ALEGRIA': 1.0, 'MEDO': 1.8318377925652385e-08},\n",
       " {'ALEGRIA': 1.0, 'MEDO': 4.184170521170927e-08},\n",
       " {'ALEGRIA': 1.0, 'MEDO': 1.1995488158333956e-08},\n",
       " {'ALEGRIA': 1.0, 'MEDO': 1.06015187739672e-08},\n",
       " {'ALEGRIA': 1.0, 'MEDO': 4.7307448625133475e-08},\n",
       " {'ALEGRIA': 1.0, 'MEDO': 1.866293786179085e-08},\n",
       " {'ALEGRIA': 1.0, 'MEDO': 1.3289449540820897e-08},\n",
       " {'ALEGRIA': 1.0, 'MEDO': 3.573167717263459e-08},\n",
       " {'ALEGRIA': 1.0, 'MEDO': 3.0216764201895785e-08},\n",
       " {'ALEGRIA': 1.0, 'MEDO': 2.6850344170270546e-08},\n",
       " {'ALEGRIA': 1.0, 'MEDO': 1.468490573586223e-08},\n",
       " {'ALEGRIA': 1.0, 'MEDO': 5.8363550436979494e-08},\n",
       " {'ALEGRIA': 1.0, 'MEDO': 1.600804466761474e-08},\n",
       " {'ALEGRIA': 1.0, 'MEDO': 1.7238910743344604e-08},\n",
       " {'ALEGRIA': 1.0, 'MEDO': 3.4626250311475815e-08},\n",
       " {'ALEGRIA': 1.0, 'MEDO': 1.5238697415043134e-08},\n",
       " {'ALEGRIA': 1.0, 'MEDO': 2.282016886567817e-08},\n",
       " {'ALEGRIA': 1.0, 'MEDO': 3.7579198419734894e-08},\n",
       " {'ALEGRIA': 1.0, 'MEDO': 7.755512676510534e-09},\n",
       " {'ALEGRIA': 1.0, 'MEDO': 2.8199847790233434e-08},\n",
       " {'ALEGRIA': 1.0, 'MEDO': 2.5534914627201033e-08},\n",
       " {'ALEGRIA': 1.0, 'MEDO': 1.0122660931699556e-08},\n",
       " {'ALEGRIA': 1.0, 'MEDO': 8.189578792894281e-09},\n",
       " {'ALEGRIA': 1.0, 'MEDO': 2.3426613537935737e-08},\n",
       " {'ALEGRIA': 1.0, 'MEDO': 2.9839846149570803e-08},\n",
       " {'ALEGRIA': 1.0, 'MEDO': 2.7555845605320428e-08},\n",
       " {'ALEGRIA': 1.0, 'MEDO': 8.769461601332296e-09},\n",
       " {'ALEGRIA': 1.0, 'MEDO': 6.81703893334884e-09},\n",
       " {'ALEGRIA': 1.0, 'MEDO': 2.005864452314654e-08},\n",
       " {'ALEGRIA': 1.0, 'MEDO': 3.785299540481901e-08},\n",
       " {'ALEGRIA': 1.0, 'MEDO': 1.0071126155253296e-08},\n",
       " {'ALEGRIA': 1.0, 'MEDO': 1.162879925686866e-08},\n",
       " {'ALEGRIA': 1.0, 'MEDO': 1.4629636169161131e-08},\n",
       " {'ALEGRIA': 1.0, 'MEDO': 3.089376932052801e-08},\n",
       " {'ALEGRIA': 1.0, 'MEDO': 1.2600258614270388e-08},\n",
       " {'ALEGRIA': 1.0, 'MEDO': 1.3982427660153007e-08},\n",
       " {'ALEGRIA': 4.860485702806727e-08, 'MEDO': 1.0},\n",
       " {'ALEGRIA': 4.338764458822197e-09, 'MEDO': 1.0},\n",
       " {'ALEGRIA': 1.0306535180859555e-08, 'MEDO': 1.0},\n",
       " {'ALEGRIA': 9.118623189863229e-09, 'MEDO': 1.0},\n",
       " {'ALEGRIA': 2.2548583444859105e-08, 'MEDO': 1.0},\n",
       " {'ALEGRIA': 1.5781131068592913e-08, 'MEDO': 1.0},\n",
       " {'ALEGRIA': 4.695431599088806e-09, 'MEDO': 1.0},\n",
       " {'ALEGRIA': 2.2518500841783862e-08, 'MEDO': 1.0},\n",
       " {'ALEGRIA': 2.7940929570036133e-08, 'MEDO': 1.0},\n",
       " {'ALEGRIA': 1.722106723889283e-08, 'MEDO': 1.0},\n",
       " {'ALEGRIA': 4.7189121943347345e-08, 'MEDO': 1.0},\n",
       " {'ALEGRIA': 6.373869609888061e-08, 'MEDO': 0.9999998807907104},\n",
       " {'ALEGRIA': 2.5402007608477106e-08, 'MEDO': 1.0},\n",
       " {'ALEGRIA': 1.2326604625911841e-08, 'MEDO': 1.0},\n",
       " {'ALEGRIA': 6.977821875864265e-09, 'MEDO': 1.0},\n",
       " {'ALEGRIA': 2.174170710134149e-08, 'MEDO': 1.0},\n",
       " {'ALEGRIA': 2.8658249107138545e-08, 'MEDO': 1.0},\n",
       " {'ALEGRIA': 8.128575146315598e-09, 'MEDO': 1.0},\n",
       " {'ALEGRIA': 3.2062306587476996e-08, 'MEDO': 1.0},\n",
       " {'ALEGRIA': 2.685936095758734e-08, 'MEDO': 1.0},\n",
       " {'ALEGRIA': 4.793936980718172e-08, 'MEDO': 1.0},\n",
       " {'ALEGRIA': 2.4996740677352136e-08, 'MEDO': 1.0},\n",
       " {'ALEGRIA': 1.975425867328795e-08, 'MEDO': 1.0},\n",
       " {'ALEGRIA': 3.0160219210983996e-08, 'MEDO': 1.0},\n",
       " {'ALEGRIA': 5.047179030270854e-08, 'MEDO': 1.0},\n",
       " {'ALEGRIA': 7.023528425520453e-09, 'MEDO': 1.0},\n",
       " {'ALEGRIA': 1.6266060498537627e-08, 'MEDO': 1.0},\n",
       " {'ALEGRIA': 2.5288404259526942e-08, 'MEDO': 1.0},\n",
       " {'ALEGRIA': 4.33792823884005e-09, 'MEDO': 1.0},\n",
       " {'ALEGRIA': 5.856803930726073e-09, 'MEDO': 1.0},\n",
       " {'ALEGRIA': 8.421564778871016e-09, 'MEDO': 1.0},\n",
       " {'ALEGRIA': 8.04273625476526e-09, 'MEDO': 1.0},\n",
       " {'ALEGRIA': 3.678514559624091e-08, 'MEDO': 1.0},\n",
       " {'ALEGRIA': 7.277772340330557e-08, 'MEDO': 0.9999998807907104},\n",
       " {'ALEGRIA': 1.3164846990321166e-08, 'MEDO': 1.0},\n",
       " {'ALEGRIA': 2.2970871427219208e-08, 'MEDO': 1.0},\n",
       " {'ALEGRIA': 2.6811244779878507e-08, 'MEDO': 1.0},\n",
       " {'ALEGRIA': 9.55566914484507e-09, 'MEDO': 1.0},\n",
       " {'ALEGRIA': 3.156992178787732e-08, 'MEDO': 1.0},\n",
       " {'ALEGRIA': 7.961053150040698e-09, 'MEDO': 1.0},\n",
       " {'ALEGRIA': 2.9416753477562452e-08, 'MEDO': 1.0},\n",
       " {'ALEGRIA': 1.3416053157300212e-08, 'MEDO': 1.0},\n",
       " {'ALEGRIA': 2.957619216203966e-08, 'MEDO': 1.0},\n",
       " {'ALEGRIA': 2.598248372009948e-08, 'MEDO': 1.0},\n",
       " {'ALEGRIA': 8.398133388709539e-08, 'MEDO': 0.9999998807907104},\n",
       " {'ALEGRIA': 2.6454648249796264e-08, 'MEDO': 1.0},\n",
       " {'ALEGRIA': 3.216791100157934e-08, 'MEDO': 1.0},\n",
       " {'ALEGRIA': 2.2350162609541258e-08, 'MEDO': 1.0},\n",
       " {'ALEGRIA': 1.1820693757158551e-08, 'MEDO': 1.0},\n",
       " {'ALEGRIA': 1.7007907970878477e-08, 'MEDO': 1.0},\n",
       " {'ALEGRIA': 2.1745726996869053e-08, 'MEDO': 1.0},\n",
       " {'ALEGRIA': 2.3496781409448886e-08, 'MEDO': 1.0},\n",
       " {'ALEGRIA': 1.0306535180859555e-08, 'MEDO': 1.0},\n",
       " {'ALEGRIA': 3.284794658497958e-08, 'MEDO': 1.0},\n",
       " {'ALEGRIA': 9.199225381451015e-09, 'MEDO': 1.0},\n",
       " {'ALEGRIA': 3.228137401833919e-08, 'MEDO': 1.0},\n",
       " {'ALEGRIA': 4.112698803737658e-08, 'MEDO': 1.0},\n",
       " {'ALEGRIA': 9.369755638033439e-09, 'MEDO': 1.0},\n",
       " {'ALEGRIA': 2.4080570426576742e-08, 'MEDO': 1.0},\n",
       " {'ALEGRIA': 3.66988075484187e-08, 'MEDO': 1.0},\n",
       " {'ALEGRIA': 2.647382757459127e-08, 'MEDO': 1.0},\n",
       " {'ALEGRIA': 3.826582783972299e-08, 'MEDO': 1.0},\n",
       " {'ALEGRIA': 1.9064382072997432e-08, 'MEDO': 1.0},\n",
       " {'ALEGRIA': 1.7609425029263548e-08, 'MEDO': 1.0},\n",
       " {'ALEGRIA': 2.5759348432075058e-08, 'MEDO': 1.0},\n",
       " {'ALEGRIA': 3.6913256895587665e-09, 'MEDO': 1.0},\n",
       " {'ALEGRIA': 7.179331618090146e-08, 'MEDO': 0.9999998807907104},\n",
       " {'ALEGRIA': 3.336955245458739e-08, 'MEDO': 1.0},\n",
       " {'ALEGRIA': 3.1661340216260214e-08, 'MEDO': 1.0},\n",
       " {'ALEGRIA': 4.685128374148917e-08, 'MEDO': 1.0},\n",
       " {'ALEGRIA': 1.4436819739671591e-08, 'MEDO': 1.0},\n",
       " {'ALEGRIA': 1.4563655170718448e-08, 'MEDO': 1.0},\n",
       " {'ALEGRIA': 1.2507235247483095e-08, 'MEDO': 1.0},\n",
       " {'ALEGRIA': 6.117799955518421e-08, 'MEDO': 0.9999998807907104},\n",
       " {'ALEGRIA': 1.0182032106342831e-08, 'MEDO': 1.0},\n",
       " {'ALEGRIA': 3.144240778851781e-08, 'MEDO': 1.0},\n",
       " {'ALEGRIA': 5.279288828319295e-08, 'MEDO': 1.0},\n",
       " {'ALEGRIA': 3.037417073414872e-08, 'MEDO': 1.0},\n",
       " {'ALEGRIA': 1.3046914659753384e-07, 'MEDO': 0.9999998807907104},\n",
       " {'ALEGRIA': 8.130284356866468e-08, 'MEDO': 0.9999998807907104},\n",
       " {'ALEGRIA': 1.6542932357310747e-08, 'MEDO': 1.0},\n",
       " {'ALEGRIA': 5.3662109422703e-08, 'MEDO': 1.0},\n",
       " {'ALEGRIA': 3.104765156081157e-08, 'MEDO': 1.0},\n",
       " {'ALEGRIA': 3.128710446276273e-08, 'MEDO': 1.0}]"
      ]
     },
     "execution_count": 8,
     "metadata": {},
     "output_type": "execute_result"
    }
   ],
   "source": [
    "previsoes = []\n",
    "\n",
    "for texto in db['texto']:\n",
    "    previsao = modelo_carregado(texto)\n",
    "    previsoes.append(previsao.cats)\n",
    "\n",
    "previsoes"
   ]
  },
  {
   "cell_type": "code",
   "execution_count": 9,
   "metadata": {},
   "outputs": [],
   "source": [
    "previsoes_final = []\n",
    "\n",
    "for previsao in previsoes:\n",
    "    if previsao['ALEGRIA'] > previsao['MEDO']:\n",
    "        previsoes_final.append('alegria')\n",
    "    else:\n",
    "        previsoes_final.append('medo')\n",
    "\n",
    "previsoes_final = np.array(previsoes_final)"
   ]
  },
  {
   "cell_type": "code",
   "execution_count": 10,
   "metadata": {},
   "outputs": [
    {
     "data": {
      "text/plain": [
       "196"
      ]
     },
     "execution_count": 10,
     "metadata": {},
     "output_type": "execute_result"
    }
   ],
   "source": [
    "qtd_acertos = sum(db['emocao'] == previsoes_final)\n",
    "qtd_acertos\n",
    "\n",
    "# Fizemos a previsao com a propria base de treinamento"
   ]
  },
  {
   "cell_type": "markdown",
   "metadata": {},
   "source": [
    "## Avaliação da base de teste"
   ]
  },
  {
   "cell_type": "code",
   "execution_count": 11,
   "metadata": {},
   "outputs": [
    {
     "data": {
      "text/html": [
       "<div>\n",
       "<style scoped>\n",
       "    .dataframe tbody tr th:only-of-type {\n",
       "        vertical-align: middle;\n",
       "    }\n",
       "\n",
       "    .dataframe tbody tr th {\n",
       "        vertical-align: top;\n",
       "    }\n",
       "\n",
       "    .dataframe thead th {\n",
       "        text-align: right;\n",
       "    }\n",
       "</style>\n",
       "<table border=\"1\" class=\"dataframe\">\n",
       "  <thead>\n",
       "    <tr style=\"text-align: right;\">\n",
       "      <th></th>\n",
       "      <th>texto</th>\n",
       "      <th>emocao</th>\n",
       "    </tr>\n",
       "  </thead>\n",
       "  <tbody>\n",
       "    <tr>\n",
       "      <th>0</th>\n",
       "      <td>não precisei pagar o ingresso</td>\n",
       "      <td>alegria</td>\n",
       "    </tr>\n",
       "    <tr>\n",
       "      <th>1</th>\n",
       "      <td>se eu ajeitar tudo fica bem</td>\n",
       "      <td>alegria</td>\n",
       "    </tr>\n",
       "    <tr>\n",
       "      <th>2</th>\n",
       "      <td>minha fortuna ultrapassará a sua</td>\n",
       "      <td>alegria</td>\n",
       "    </tr>\n",
       "    <tr>\n",
       "      <th>3</th>\n",
       "      <td>sou muito afortunado</td>\n",
       "      <td>alegria</td>\n",
       "    </tr>\n",
       "    <tr>\n",
       "      <th>4</th>\n",
       "      <td>é benéfico para todos esta nova medida</td>\n",
       "      <td>alegria</td>\n",
       "    </tr>\n",
       "    <tr>\n",
       "      <th>...</th>\n",
       "      <td>...</td>\n",
       "      <td>...</td>\n",
       "    </tr>\n",
       "    <tr>\n",
       "      <th>79</th>\n",
       "      <td>fui notificado e estou com medo de perder a gu...</td>\n",
       "      <td>medo</td>\n",
       "    </tr>\n",
       "    <tr>\n",
       "      <th>80</th>\n",
       "      <td>estou angustiada com meus filhos na rua</td>\n",
       "      <td>medo</td>\n",
       "    </tr>\n",
       "    <tr>\n",
       "      <th>81</th>\n",
       "      <td>e abominável o que fazem com os animais</td>\n",
       "      <td>medo</td>\n",
       "    </tr>\n",
       "    <tr>\n",
       "      <th>82</th>\n",
       "      <td>foi terrível o tigre quase o matou</td>\n",
       "      <td>medo</td>\n",
       "    </tr>\n",
       "    <tr>\n",
       "      <th>83</th>\n",
       "      <td>me advertiram sobre isso</td>\n",
       "      <td>medo</td>\n",
       "    </tr>\n",
       "  </tbody>\n",
       "</table>\n",
       "<p>84 rows × 2 columns</p>\n",
       "</div>"
      ],
      "text/plain": [
       "                                                texto   emocao\n",
       "0                       não precisei pagar o ingresso  alegria\n",
       "1                         se eu ajeitar tudo fica bem  alegria\n",
       "2                    minha fortuna ultrapassará a sua  alegria\n",
       "3                                sou muito afortunado  alegria\n",
       "4              é benéfico para todos esta nova medida  alegria\n",
       "..                                                ...      ...\n",
       "79  fui notificado e estou com medo de perder a gu...     medo\n",
       "80            estou angustiada com meus filhos na rua     medo\n",
       "81            e abominável o que fazem com os animais     medo\n",
       "82                 foi terrível o tigre quase o matou     medo\n",
       "83                           me advertiram sobre isso     medo\n",
       "\n",
       "[84 rows x 2 columns]"
      ]
     },
     "execution_count": 11,
     "metadata": {},
     "output_type": "execute_result"
    }
   ],
   "source": [
    "db_teste = pd.read_csv(\"base_teste.txt\", encoding='utf-8')\n",
    "db_teste"
   ]
  },
  {
   "cell_type": "code",
   "execution_count": 12,
   "metadata": {},
   "outputs": [
    {
     "data": {
      "text/html": [
       "<div>\n",
       "<style scoped>\n",
       "    .dataframe tbody tr th:only-of-type {\n",
       "        vertical-align: middle;\n",
       "    }\n",
       "\n",
       "    .dataframe tbody tr th {\n",
       "        vertical-align: top;\n",
       "    }\n",
       "\n",
       "    .dataframe thead th {\n",
       "        text-align: right;\n",
       "    }\n",
       "</style>\n",
       "<table border=\"1\" class=\"dataframe\">\n",
       "  <thead>\n",
       "    <tr style=\"text-align: right;\">\n",
       "      <th></th>\n",
       "      <th>texto</th>\n",
       "      <th>emocao</th>\n",
       "    </tr>\n",
       "  </thead>\n",
       "  <tbody>\n",
       "    <tr>\n",
       "      <th>0</th>\n",
       "      <td>precisar pagar ingresso</td>\n",
       "      <td>alegria</td>\n",
       "    </tr>\n",
       "    <tr>\n",
       "      <th>1</th>\n",
       "      <td>ajeitar ficar</td>\n",
       "      <td>alegria</td>\n",
       "    </tr>\n",
       "    <tr>\n",
       "      <th>2</th>\n",
       "      <td>fortuna ultrapassar</td>\n",
       "      <td>alegria</td>\n",
       "    </tr>\n",
       "    <tr>\n",
       "      <th>3</th>\n",
       "      <td>afortunar</td>\n",
       "      <td>alegria</td>\n",
       "    </tr>\n",
       "    <tr>\n",
       "      <th>4</th>\n",
       "      <td>benéfico medida</td>\n",
       "      <td>alegria</td>\n",
       "    </tr>\n",
       "    <tr>\n",
       "      <th>...</th>\n",
       "      <td>...</td>\n",
       "      <td>...</td>\n",
       "    </tr>\n",
       "    <tr>\n",
       "      <th>79</th>\n",
       "      <td>notificar medo perder guarda de o filha</td>\n",
       "      <td>medo</td>\n",
       "    </tr>\n",
       "    <tr>\n",
       "      <th>80</th>\n",
       "      <td>angustiada filho em o rua</td>\n",
       "      <td>medo</td>\n",
       "    </tr>\n",
       "    <tr>\n",
       "      <th>81</th>\n",
       "      <td>abominável animal</td>\n",
       "      <td>medo</td>\n",
       "    </tr>\n",
       "    <tr>\n",
       "      <th>82</th>\n",
       "      <td>terrível tigre quase matar</td>\n",
       "      <td>medo</td>\n",
       "    </tr>\n",
       "    <tr>\n",
       "      <th>83</th>\n",
       "      <td>advertir</td>\n",
       "      <td>medo</td>\n",
       "    </tr>\n",
       "  </tbody>\n",
       "</table>\n",
       "<p>84 rows × 2 columns</p>\n",
       "</div>"
      ],
      "text/plain": [
       "                                      texto   emocao\n",
       "0                   precisar pagar ingresso  alegria\n",
       "1                             ajeitar ficar  alegria\n",
       "2                       fortuna ultrapassar  alegria\n",
       "3                                 afortunar  alegria\n",
       "4                           benéfico medida  alegria\n",
       "..                                      ...      ...\n",
       "79  notificar medo perder guarda de o filha     medo\n",
       "80                angustiada filho em o rua     medo\n",
       "81                        abominável animal     medo\n",
       "82               terrível tigre quase matar     medo\n",
       "83                                 advertir     medo\n",
       "\n",
       "[84 rows x 2 columns]"
      ]
     },
     "execution_count": 12,
     "metadata": {},
     "output_type": "execute_result"
    }
   ],
   "source": [
    "db_teste['texto'] = db_teste['texto'].apply(pre_processamento)\n",
    "db_teste"
   ]
  },
  {
   "cell_type": "code",
   "execution_count": 13,
   "metadata": {},
   "outputs": [],
   "source": [
    "previsoes = []\n",
    "\n",
    "for texto in db_teste['texto']:\n",
    "    previsao = modelo_carregado(texto)\n",
    "    previsoes.append(previsao.cats)\n",
    "\n",
    "\n",
    "previsoes_final = []\n",
    "\n",
    "for previsao in previsoes:\n",
    "    if previsao['ALEGRIA'] > previsao['MEDO']:\n",
    "        previsoes_final.append('alegria')\n",
    "    else:\n",
    "        previsoes_final.append('medo')\n",
    "\n",
    "previsoes_final = np.array(previsoes_final)"
   ]
  },
  {
   "cell_type": "code",
   "execution_count": null,
   "metadata": {},
   "outputs": [
    {
     "data": {
      "text/plain": [
       "47"
      ]
     },
     "execution_count": 14,
     "metadata": {},
     "output_type": "execute_result"
    }
   ],
   "source": [
    "sum(previsoes_final == db_teste['emocao'])\n"
   ]
  },
  {
   "cell_type": "code",
   "execution_count": 17,
   "metadata": {},
   "outputs": [],
   "source": [
    "from sklearn.metrics import confusion_matrix\n"
   ]
  },
  {
   "cell_type": "code",
   "execution_count": null,
   "metadata": {},
   "outputs": [
    {
     "data": {
      "text/plain": [
       "array([[34, 14],\n",
       "       [23, 13]])"
      ]
     },
     "execution_count": 18,
     "metadata": {},
     "output_type": "execute_result"
    }
   ],
   "source": [
    "cm = confusion_matrix(y_true=db_teste['emocao'], y_pred=previsoes_final)\n",
    "cm"
   ]
  },
  {
   "cell_type": "markdown",
   "metadata": {},
   "source": [
    "Essa base de dados de treinamento não é muito boa, serve apenas para mostrar uma visão geral do spaCy."
   ]
  }
 ],
 "metadata": {
  "kernelspec": {
   "display_name": "NLP",
   "language": "python",
   "name": "python3"
  },
  "language_info": {
   "codemirror_mode": {
    "name": "ipython",
    "version": 3
   },
   "file_extension": ".py",
   "mimetype": "text/x-python",
   "name": "python",
   "nbconvert_exporter": "python",
   "pygments_lexer": "ipython3",
   "version": "3.12.7"
  }
 },
 "nbformat": 4,
 "nbformat_minor": 2
}
