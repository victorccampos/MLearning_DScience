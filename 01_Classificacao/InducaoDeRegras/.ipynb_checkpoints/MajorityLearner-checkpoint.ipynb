{
 "cells": [
  {
   "cell_type": "markdown",
   "id": "63d7aa1a-94b8-4bd0-b3ec-ecdb192b3dfa",
   "metadata": {},
   "source": [
    "Data: 20/09/2024"
   ]
  },
  {
   "cell_type": "code",
   "execution_count": 1,
   "id": "afe09369-9900-4842-bd38-07fba3fd438e",
   "metadata": {},
   "outputs": [],
   "source": [
    "import Orange"
   ]
  },
  {
   "cell_type": "markdown",
   "id": "ccd5b120-e73b-47f8-a96b-1e74d736128a",
   "metadata": {},
   "source": [
    "### Base de Dados - Crédito"
   ]
  },
  {
   "cell_type": "code",
   "execution_count": 2,
   "id": "a35c6072-0733-44f8-97bc-50b9914be503",
   "metadata": {},
   "outputs": [],
   "source": [
    "db_credit = Orange.data.Table('credit_data_regras.csv')"
   ]
  },
  {
   "cell_type": "code",
   "execution_count": 4,
   "id": "19d79e03-a0e8-435e-b5fb-8e595cd76e9a",
   "metadata": {},
   "outputs": [
    {
     "data": {
      "text/plain": [
       "[income, age, loan | default]"
      ]
     },
     "execution_count": 4,
     "metadata": {},
     "output_type": "execute_result"
    }
   ],
   "source": [
    "# previsores | classe\n",
    "db_credit.domain"
   ]
  },
  {
   "cell_type": "markdown",
   "id": "7f28bd52-974a-425f-b336-bcebfc957ccd",
   "metadata": {},
   "source": [
    "A majority classifier. *Always returns most frequent class from the \n",
    "training se*t, regardless of the attribute values from the test data\r\n",
    "instance. Returns class value distribution if class probabiliti s\r\n",
    "are requested. Can be used as a baseline when comparing classifiers"
   ]
  },
  {
   "cell_type": "code",
   "execution_count": 6,
   "id": "d54e0a11-f976-4356-aece-3a8ea1f58794",
   "metadata": {},
   "outputs": [],
   "source": [
    "majority = Orange.classification.MajorityLearner()"
   ]
  },
  {
   "cell_type": "code",
   "execution_count": 7,
   "id": "22ff98dd-80aa-47c4-9ddb-950c4b4fb2d7",
   "metadata": {},
   "outputs": [],
   "source": [
    "# Treinando e testando na mesma base (de fato não existe treinamento)\n",
    "previsoes_credit = Orange.evaluation.testing.TestOnTestData(db_credit, db_credit, learners=[majority])"
   ]
  },
  {
   "cell_type": "code",
   "execution_count": 9,
   "id": "dd025607-cc86-499c-bc44-e72d6232435a",
   "metadata": {},
   "outputs": [
    {
     "data": {
      "text/plain": [
       "array([0.8585])"
      ]
     },
     "execution_count": 9,
     "metadata": {},
     "output_type": "execute_result"
    }
   ],
   "source": [
    "# Classification Accuracy\n",
    "Orange.evaluation.CA(previsoes_credit)"
   ]
  },
  {
   "cell_type": "markdown",
   "id": "2ff7cfec-4186-43b6-847a-1c84fd0cdec4",
   "metadata": {},
   "source": [
    "**Contando os registros**"
   ]
  },
  {
   "cell_type": "code",
   "execution_count": 34,
   "id": "7c8d614b-580a-47fa-850e-9f6af7e63d77",
   "metadata": {},
   "outputs": [],
   "source": [
    "from collections import Counter"
   ]
  },
  {
   "cell_type": "code",
   "execution_count": 37,
   "id": "a312facd-2241-46ac-a571-94a5da715015",
   "metadata": {},
   "outputs": [
    {
     "data": {
      "text/plain": [
       "Counter({'0': 1717, '1': 283})"
      ]
     },
     "execution_count": 37,
     "metadata": {},
     "output_type": "execute_result"
    }
   ],
   "source": [
    "Counter(\n",
    "    [str(registro.get_class()) for registro in db_credit]\n",
    ")"
   ]
  },
  {
   "cell_type": "code",
   "execution_count": 16,
   "id": "1f899eaa-906b-400d-bdcc-5c65bf9c2d5c",
   "metadata": {},
   "outputs": [
    {
     "data": {
      "text/plain": [
       "0.8585"
      ]
     },
     "execution_count": 16,
     "metadata": {},
     "output_type": "execute_result"
    }
   ],
   "source": [
    "1717/2000"
   ]
  },
  {
   "cell_type": "markdown",
   "id": "a0d7cbf1-4ec2-4921-8fc1-9be2758a3cb5",
   "metadata": {},
   "source": [
    "Se tivermos um valor de *accuracy* de um determinado algoritmo de aprendizado de máquina abaixo de 85%, isso significa que não vale a pena utilizar esse algoritmo nessa base de dados."
   ]
  },
  {
   "cell_type": "markdown",
   "id": "50909619-ead8-4e97-a24b-a72a84dac8c6",
   "metadata": {},
   "source": [
    "### Base do Censo"
   ]
  },
  {
   "cell_type": "code",
   "execution_count": 38,
   "id": "4a86aa4d-8059-45b2-ba18-71d981102bc1",
   "metadata": {},
   "outputs": [],
   "source": [
    "db_census = Orange.data.Table('census_regras.csv')"
   ]
  },
  {
   "cell_type": "code",
   "execution_count": 40,
   "id": "d4a9b3fc-6ee3-4936-94b3-c64781662609",
   "metadata": {},
   "outputs": [
    {
     "data": {
      "text/plain": [
       "[age, workclass, final-weight, education, education-num, marital-status, occupation, relationship, race, sex, capital-gain, capital-loos, hour-per-week, native-country | income]"
      ]
     },
     "execution_count": 40,
     "metadata": {},
     "output_type": "execute_result"
    }
   ],
   "source": [
    "# A classe é o income, o #c no csv\n",
    "db_census.domain"
   ]
  },
  {
   "cell_type": "code",
   "execution_count": 41,
   "id": "e29e94fd-4867-42cc-bf47-fe183ffde7e4",
   "metadata": {},
   "outputs": [
    {
     "data": {
      "text/plain": [
       "array([0.75919044])"
      ]
     },
     "execution_count": 41,
     "metadata": {},
     "output_type": "execute_result"
    }
   ],
   "source": [
    "majority = Orange.classification.MajorityLearner()\n",
    "pred_census = Orange.evaluation.testing.TestOnTestData(db_census, db_census, [majority])\n",
    "Orange.evaluation.CA(pred_census)"
   ]
  },
  {
   "cell_type": "markdown",
   "id": "3bdb594f-28b4-46c3-82e3-01afeb6c2bc0",
   "metadata": {},
   "source": [
    "O algoritmo precisa acerta mais que 75% que é a classe que mais aparece, nesse caso $< 50K$ dólares/ano."
   ]
  },
  {
   "cell_type": "markdown",
   "id": "6badb99c-65e4-4cf5-805e-590c0ce1a238",
   "metadata": {},
   "source": [
    "Como só tem duas classes é fácil fazer \"manualmente\", mas o *MajorityLearner* é interessante para bases com várias classes e para se ter um limiar inferior."
   ]
  },
  {
   "cell_type": "code",
   "execution_count": 42,
   "id": "000c652f-e388-4833-9b2c-705d9aceda02",
   "metadata": {},
   "outputs": [
    {
     "data": {
      "text/plain": [
       "Counter({'<=50K': 24720, '>50K': 7841})"
      ]
     },
     "execution_count": 42,
     "metadata": {},
     "output_type": "execute_result"
    }
   ],
   "source": [
    "Counter(\n",
    "    [str(registro.get_class()) for registro in db_census]\n",
    ")"
   ]
  },
  {
   "cell_type": "code",
   "execution_count": 44,
   "id": "6bb1ac17-3eba-4f8e-81b4-91a8044625e5",
   "metadata": {},
   "outputs": [
    {
     "data": {
      "text/plain": [
       "0.7591904425539756"
      ]
     },
     "execution_count": 44,
     "metadata": {},
     "output_type": "execute_result"
    }
   ],
   "source": [
    "24720 / (24720 + 7841)"
   ]
  }
 ],
 "metadata": {
  "kernelspec": {
   "display_name": "Python 3 (ipykernel)",
   "language": "python",
   "name": "python3"
  },
  "language_info": {
   "codemirror_mode": {
    "name": "ipython",
    "version": 3
   },
   "file_extension": ".py",
   "mimetype": "text/x-python",
   "name": "python",
   "nbconvert_exporter": "python",
   "pygments_lexer": "ipython3",
   "version": "3.12.4"
  }
 },
 "nbformat": 4,
 "nbformat_minor": 5
}
