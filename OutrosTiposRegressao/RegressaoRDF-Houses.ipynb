{
 "cells": [
  {
   "cell_type": "markdown",
   "id": "29b031fb-2c4f-40d9-b5c9-ade4dffc54e2",
   "metadata": {},
   "source": [
    "# Random Forest Regressor aplicada a base de preço casas"
   ]
  },
  {
   "cell_type": "code",
   "execution_count": 4,
   "id": "9263ef9c-25ed-491b-9c31-b01e0e5b41b7",
   "metadata": {},
   "outputs": [],
   "source": [
    "# Numérico\n",
    "import pandas as pd\n",
    "import numpy as np\n",
    "\n",
    "# Gráficos\n",
    "import matplotlib.pyplot as plt\n",
    "import plotly.express as px \n",
    "\n",
    "# Algoritmos de Aprendizagem\n",
    "from sklearn.model_selection import train_test_split\n",
    "# Importação do Random Forest\n",
    "from sklearn.ensemble import RandomForestRegressor\n",
    "\n",
    "# Metricas \n",
    "from sklearn.metrics import mean_absolute_error, mean_squared_error"
   ]
  },
  {
   "cell_type": "code",
   "execution_count": 5,
   "id": "b482220d-dbd4-45fd-be3d-1eee8e4df354",
   "metadata": {},
   "outputs": [
    {
     "data": {
      "text/plain": [
       "((15129, 16), (6484, 16))"
      ]
     },
     "execution_count": 5,
     "metadata": {},
     "output_type": "execute_result"
    }
   ],
   "source": [
    "db_casas = pd.read_csv('house_prices.csv')\n",
    "\n",
    "# predictor values in matrix shape\n",
    "X_casas = db_casas.iloc[:,3:19].values\n",
    "\n",
    "# prices\n",
    "y_casas = db_casas.iloc[:,2].values\n",
    "\n",
    "## Divisao da base\n",
    "X_casas_treinamento, X_casas_test, y_casas_treinamento, y_casas_test = train_test_split(X_casas, y_casas, test_size=0.3, random_state=0)\n",
    "X_casas_treinamento.shape, X_casas_teste.shape"
   ]
  },
  {
   "cell_type": "code",
   "execution_count": 6,
   "id": "a967ca42-cd1d-4a5f-a34d-78b608b56471",
   "metadata": {},
   "outputs": [],
   "source": [
    "### Instaciando o algoritmo\n",
    "RDF_regressor = RandomForestRegressor()\n",
    "\n",
    "# Treinar\n",
    "RDF_regressor.fit(X_casas_treinamento, y_casas_treinamento)\n",
    "\n",
    "# Avaliar na base de treino\n",
    "score_rdf_train = RDF_regressor.score(X_casas_treinamento, y_casas_treinamento)\n",
    "# Avaliar na base de teste\n",
    "score_rdf_test = RDF_regressor.score(X_casas_test, y_casas_test)"
   ]
  },
  {
   "cell_type": "code",
   "execution_count": 7,
   "id": "08613604-7397-4660-96aa-18f1343ce840",
   "metadata": {},
   "outputs": [
    {
     "name": "stdout",
     "output_type": "stream",
     "text": [
      "TREINAMENTO: 0.9811485354693066\n",
      " TESTE: 0.878919879427021\n"
     ]
    }
   ],
   "source": [
    "print(f'TREINAMENTO: {score_rdf_train}')\n",
    "print(f' TESTE: {score_rdf_test}')"
   ]
  },
  {
   "cell_type": "markdown",
   "id": "795e18ce-b1c8-4b83-8464-4b1d022f37c8",
   "metadata": {},
   "source": [
    "1. Regressão Linear Simples: 0.48\n",
    "2. Regressaõ Linear Múltipla: 0.68\n",
    "3. Regressão Polinomial: 0.81\n",
    "4. Regressão Árvore: 0.73\n",
    "5. Regressão RDF: 0.88"
   ]
  },
  {
   "cell_type": "code",
   "execution_count": 8,
   "id": "7914c18a-e1db-44b4-9e65-8bbca55a77dd",
   "metadata": {},
   "outputs": [],
   "source": [
    "y_pred = RDF_regressor.predict(X_casas_test)"
   ]
  },
  {
   "cell_type": "code",
   "execution_count": 9,
   "id": "eacaf089-0f35-4f8e-880a-649a4e0782a7",
   "metadata": {},
   "outputs": [
    {
     "data": {
      "text/plain": [
       "array([ 309390.5       , 1704829.13333333,  529799.5       , ...,\n",
       "        368349.14      ,  235285.93      ,  202724.6       ])"
      ]
     },
     "execution_count": 9,
     "metadata": {},
     "output_type": "execute_result"
    }
   ],
   "source": [
    "y_pred "
   ]
  },
  {
   "cell_type": "code",
   "execution_count": 10,
   "id": "a3529ea7-cf0c-4c0e-a499-293a41a9c0b9",
   "metadata": {},
   "outputs": [
    {
     "data": {
      "text/plain": [
       "array([ 297000., 1578000.,  562100., ...,  380000.,  268000.,  206000.])"
      ]
     },
     "execution_count": 10,
     "metadata": {},
     "output_type": "execute_result"
    }
   ],
   "source": [
    "y_casas_test"
   ]
  },
  {
   "cell_type": "code",
   "execution_count": 11,
   "id": "ba24f47a-bc30-4e0c-af5b-de66bf1ddd15",
   "metadata": {},
   "outputs": [
    {
     "data": {
      "text/plain": [
       "array([ 12390.5       , 126829.13333333, -32300.5       , ...,\n",
       "       -11650.86      , -32714.07      ,  -3275.4       ])"
      ]
     },
     "execution_count": 11,
     "metadata": {},
     "output_type": "execute_result"
    }
   ],
   "source": [
    "y_pred - y_casas_test"
   ]
  },
  {
   "cell_type": "code",
   "execution_count": 14,
   "id": "c1eb5b8e-c15e-4c9e-ab77-6e253fe7ab0e",
   "metadata": {},
   "outputs": [
    {
     "data": {
      "text/plain": [
       "68002.7891765414"
      ]
     },
     "execution_count": 14,
     "metadata": {},
     "output_type": "execute_result"
    }
   ],
   "source": [
    "mean_absolute_error(y_casas_test, y_pred)"
   ]
  },
  {
   "cell_type": "markdown",
   "id": "18fde214-1933-46a0-8f9e-12c5a366e49a",
   "metadata": {},
   "source": [
    "Em média o algoritmo vai errar $\\pm 68K \\$$"
   ]
  }
 ],
 "metadata": {
  "kernelspec": {
   "display_name": "Python 3 (ipykernel)",
   "language": "python",
   "name": "python3"
  },
  "language_info": {
   "codemirror_mode": {
    "name": "ipython",
    "version": 3
   },
   "file_extension": ".py",
   "mimetype": "text/x-python",
   "name": "python",
   "nbconvert_exporter": "python",
   "pygments_lexer": "ipython3",
   "version": "3.12.4"
  }
 },
 "nbformat": 4,
 "nbformat_minor": 5
}
