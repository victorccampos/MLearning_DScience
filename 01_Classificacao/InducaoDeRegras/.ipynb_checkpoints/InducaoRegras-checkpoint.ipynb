{
 "cells": [
  {
   "cell_type": "markdown",
   "id": "88902d37-b269-497d-8ec3-91250b654d43",
   "metadata": {},
   "source": [
    "Data: 20/09/2024"
   ]
  },
  {
   "cell_type": "code",
   "execution_count": 33,
   "id": "46048de9-b7ef-4b3c-a051-2a709fdf0edb",
   "metadata": {},
   "outputs": [],
   "source": [
    "import Orange\n",
    "import numpy as np"
   ]
  },
  {
   "cell_type": "markdown",
   "id": "1bcbc718-9f98-443a-a893-00a099c0bcd0",
   "metadata": {},
   "source": [
    "### Base de Dados - Risco de Crédito"
   ]
  },
  {
   "cell_type": "code",
   "execution_count": 2,
   "id": "c2d8d742-3da9-49c0-9b73-d413d1066621",
   "metadata": {},
   "outputs": [],
   "source": [
    "db_RiscoCredito = Orange.data.Table('risco_credito_regras.csv')"
   ]
  },
  {
   "cell_type": "code",
   "execution_count": 9,
   "id": "25dd8bae-6571-436b-bd76-fc48271dab63",
   "metadata": {},
   "outputs": [
    {
     "data": {
      "text/plain": [
       "[[ruim, alta, nenhuma, 0_15 | alto],\n",
       " [desconhecida, alta, nenhuma, 15_35 | alto],\n",
       " [desconhecida, baixa, nenhuma, 15_35 | moderado],\n",
       " [desconhecida, baixa, nenhuma, acima_35 | alto],\n",
       " [desconhecida, baixa, nenhuma, acima_35 | baixo],\n",
       " ...\n",
       "]"
      ]
     },
     "execution_count": 9,
     "metadata": {},
     "output_type": "execute_result"
    }
   ],
   "source": [
    "# O caractere C# separa o que é previsor e o que é classe\n",
    "db_RiscoCredito"
   ]
  },
  {
   "cell_type": "code",
   "execution_count": 10,
   "id": "fb71ce87-e993-4710-aa62-b806b362cc9e",
   "metadata": {},
   "outputs": [
    {
     "data": {
      "text/plain": [
       "[historia, divida, garantias, renda | risco]"
      ]
     },
     "execution_count": 10,
     "metadata": {},
     "output_type": "execute_result"
    }
   ],
   "source": [
    "db_RiscoCredito.domain"
   ]
  },
  {
   "cell_type": "code",
   "execution_count": 11,
   "id": "2d7e284f-5a79-4a24-876a-cb6cf35d1d21",
   "metadata": {},
   "outputs": [],
   "source": [
    "# Algoritmo de regras de associação (CN2)\n",
    "cn2 = Orange.classification.rules.CN2Learner()\n",
    "# Criação das regras == Treinamento do algoritmo\n",
    "regras_risco_credito = cn2(db_RiscoCredito)"
   ]
  },
  {
   "cell_type": "code",
   "execution_count": 16,
   "id": "eba857dc-45f7-4763-87b6-50f8880965e6",
   "metadata": {},
   "outputs": [
    {
     "name": "stdout",
     "output_type": "stream",
     "text": [
      "IF renda==0_15 THEN risco=alto \n",
      "IF historia==boa AND divida!=alta THEN risco=baixo \n",
      "IF historia==boa AND garantias!=nenhuma THEN risco=baixo \n",
      "IF historia==boa AND renda!=15_35 THEN risco=baixo \n",
      "IF historia==boa THEN risco=moderado \n",
      "IF divida==alta THEN risco=alto \n",
      "IF historia!=desconhecida THEN risco=moderado \n",
      "IF garantias==adequada THEN risco=baixo \n",
      "IF renda==15_35 THEN risco=moderado \n",
      "IF historia==desconhecida THEN risco=baixo \n",
      "IF TRUE THEN risco=alto \n"
     ]
    }
   ],
   "source": [
    "# Resultado da Aprendizagem\n",
    "for regra in regras_risco_credito.rule_list:\n",
    "    print(regra)"
   ]
  },
  {
   "cell_type": "markdown",
   "id": "3851e2fa-c759-4ba9-b837-f4130412f330",
   "metadata": {},
   "source": [
    "Simulação da Classificação de dois registros:  \n",
    "- história boa, dívida alta, garantias nenhuma, renda > 35\n",
    "- história ruim, dívida alta, garantias adequada, renda < 15"
   ]
  },
  {
   "cell_type": "code",
   "execution_count": 17,
   "id": "ee1e3801-9fe6-43c3-9a3f-8366dd2a8c54",
   "metadata": {},
   "outputs": [],
   "source": [
    "cliente1: list[str] = ['boa', 'alta', 'nenhuma', 'acima_35']\n",
    "cliente2: list[str] = ['ruim', 'alta', 'adequada', '0_15']\n",
    "\n",
    "clientes = [cliente1, cliente2]\n",
    "\n",
    "previsoes = regras_risco_credito(clientes)"
   ]
  },
  {
   "cell_type": "code",
   "execution_count": 28,
   "id": "973f05d7-a227-4969-9546-b16693544f5a",
   "metadata": {},
   "outputs": [
    {
     "name": "stdout",
     "output_type": "stream",
     "text": [
      "registro pertecem as classes: [1 0]\n"
     ]
    },
    {
     "data": {
      "text/plain": [
       "('risco', ('alto', 'baixo', 'moderado'))"
      ]
     },
     "execution_count": 28,
     "metadata": {},
     "output_type": "execute_result"
    }
   ],
   "source": [
    "# Visualizar o resultado\n",
    "print(f'registro pertecem as classes: {previsoes}')\n",
    "\n",
    "# Representação da base em name e values\n",
    "db_RiscoCredito.domain.class_var.name, db_RiscoCredito.domain.class_var.values"
   ]
  },
  {
   "cell_type": "code",
   "execution_count": 32,
   "id": "47dc485a-639b-4074-b463-2e103053e99e",
   "metadata": {},
   "outputs": [
    {
     "name": "stdout",
     "output_type": "stream",
     "text": [
      "baixo\n",
      "alto\n"
     ]
    }
   ],
   "source": [
    "for i in previsoes:\n",
    "    # previsoes = [1, 0]\n",
    "    print(db_RiscoCredito.domain.class_var.values[i])"
   ]
  },
  {
   "cell_type": "markdown",
   "id": "90a2ca9e-97e3-4610-8734-479a9d3e3173",
   "metadata": {},
   "source": [
    "### Base de Dados - Credito"
   ]
  },
  {
   "cell_type": "code",
   "execution_count": 34,
   "id": "ddcc8704-0016-4a38-887c-3ef82c82583d",
   "metadata": {},
   "outputs": [],
   "source": [
    "db_credit = Orange.data.Table('credit_data_regras.csv')"
   ]
  },
  {
   "cell_type": "code",
   "execution_count": 37,
   "id": "38a9a23d-5237-4a24-8e8b-7d9456f64f16",
   "metadata": {},
   "outputs": [],
   "source": [
    "# divisao da base de dados. 'n' é qual % da base de TESTE, aqui 25%\n",
    "base_teste, base_treinamento = Orange.evaluation.testing.sample(db_credit, n=0.25)"
   ]
  },
  {
   "cell_type": "code",
   "execution_count": 53,
   "id": "f4995417-fa83-4196-bcfd-590b007aba31",
   "metadata": {},
   "outputs": [
    {
     "data": {
      "text/plain": [
       "(1500, 500)"
      ]
     },
     "execution_count": 53,
     "metadata": {},
     "output_type": "execute_result"
    }
   ],
   "source": [
    "len(base_treinamento), len(base_teste)"
   ]
  },
  {
   "cell_type": "code",
   "execution_count": 39,
   "id": "3a7cb798-f96f-4615-9c99-862e719eb9f8",
   "metadata": {},
   "outputs": [],
   "source": [
    "# Criar/Treinar o algoritmo e treinar \n",
    "cn2 = Orange.classification.rules.CN2Learner()\n",
    "regras_credit = cn2(base_treinamento)"
   ]
  },
  {
   "cell_type": "code",
   "execution_count": 40,
   "id": "b49b53cd-ff65-4e6e-b863-b7075112311e",
   "metadata": {},
   "outputs": [
    {
     "name": "stdout",
     "output_type": "stream",
     "text": [
      "IF age>=34.851817262359 THEN default=0 \n",
      "IF age>=34.7514377613552 THEN default=1 \n",
      "IF loan<=2495.13299137587 AND income>=20511.4294355735 THEN default=0 \n",
      "IF income<=31702.3342987522 AND age>=34.7410444347188 THEN default=0 \n",
      "IF income<=31702.3342987522 AND age>=32.1632712800056 THEN default=1 \n",
      "IF loan>=7708.31562497011 AND loan>=9698.582169129 THEN default=1 \n",
      "IF age<=18.055874488782102 AND income>=50501.7266888171 THEN default=0 \n",
      "IF loan>=8045.4409532236705 THEN default=1 \n",
      "IF income<=45360.716274008206 AND loan>=5233.66322803221 THEN default=1 \n",
      "IF age>=34.058644853998 THEN default=0 \n",
      "IF income>=57596.3540980592 AND age>=22.939635145478 THEN default=0 \n",
      "IF loan>=6536.96636294544 AND age>=22.3484194725752 THEN default=1 \n",
      "IF age>=31.9685264034197 AND age>=33.804503521882 THEN default=1 \n",
      "IF age>=32.718134177383 THEN default=0 \n",
      "IF income<=31702.3342987522 AND age>=31.9685264034197 THEN default=0 \n",
      "IF income<=31702.3342987522 AND loan>=3665.88089899456 THEN default=1 \n",
      "IF age>=32.704374910332305 THEN default=1 \n",
      "IF loan<=7084.263509070559 AND income>=48790.1324336417 THEN default=0 \n",
      "IF income<=22089.8374845274 AND age>=21.3656869572587 THEN default=1 \n",
      "IF income<=48430.993668735 AND loan>=5929.09802983651 THEN default=1 \n",
      "IF income>=48630.9795337729 AND income>=61344.5322075859 THEN default=0 \n",
      "IF income>=48630.9795337729 THEN default=1 \n",
      "IF income>=45971.133494749694 THEN default=0 \n",
      "IF loan<=3105.4430213977303 AND income>=26617.0303151011 THEN default=0 \n",
      "IF age>=27.075747632421603 AND income>=34559.907035436496 THEN default=0 \n",
      "IF loan<=4285.38691174949 AND loan>=4285.38691174949 THEN default=1 \n",
      "IF loan<=4625.19337762744 AND loan>=4625.19337762744 THEN default=1 \n",
      "IF income>=45898.513523861795 THEN default=1 \n",
      "IF income>=42522.5757574663 THEN default=0 \n",
      "IF loan>=4849.33378471958 THEN default=1 \n",
      "IF income>=29775.1422203146 THEN default=0 \n",
      "IF income>=25640.0788831525 THEN default=1 \n",
      "IF income<=24857.6948815025 THEN default=0 \n",
      "IF TRUE THEN default=0 \n"
     ]
    }
   ],
   "source": [
    "for regra in regras_credit.rule_list:\n",
    "    print(regra)"
   ]
  },
  {
   "cell_type": "code",
   "execution_count": 43,
   "id": "c7c6935c-dfe9-4977-a9a9-cf79b640edf9",
   "metadata": {},
   "outputs": [],
   "source": [
    "pred_credit = Orange.evaluation.testing.TestOnTestData(data=base_treinamento, test_data=base_teste, learners=[lambda testdata: regras_credit])"
   ]
  },
  {
   "cell_type": "markdown",
   "id": "f17b56af-9973-484e-81c0-09c42cf7a790",
   "metadata": {},
   "source": [
    "**Função Lambda no Contexto**: \n",
    "\n",
    "A função lambda `lambda testdata: regras_credit` basicamente serve como um \"learner\" personalizado, onde, em vez de treinar um novo modelo nos dados de treinamento, você já tem o `modelo (regras_credit)` e apenas o aplica diretamente aos dados de teste.\n",
    "\n",
    "`testdata`: Representa os `dados de teste`, e a função lambda está especificando que, quando os *dados de teste são passados*, eles devem ser *processados pelas regras* (`regras_credit`)."
   ]
  },
  {
   "cell_type": "code",
   "execution_count": 55,
   "id": "2d4f0ba5-8c48-49da-8320-bc81a2e05b01",
   "metadata": {},
   "outputs": [
    {
     "name": "stdout",
     "output_type": "stream",
     "text": [
      "<class 'Orange.evaluation.testing.Results'>\n"
     ]
    }
   ],
   "source": [
    "print(type(pred_credit))"
   ]
  },
  {
   "cell_type": "code",
   "execution_count": 54,
   "id": "5e29a13a-8447-43de-998e-fe96cdf2c727",
   "metadata": {},
   "outputs": [
    {
     "data": {
      "text/plain": [
       "array([0.99])"
      ]
     },
     "execution_count": 54,
     "metadata": {},
     "output_type": "execute_result"
    }
   ],
   "source": [
    "Orange.evaluation.CA(pred_credit)"
   ]
  }
 ],
 "metadata": {
  "kernelspec": {
   "display_name": "Python 3 (ipykernel)",
   "language": "python",
   "name": "python3"
  },
  "language_info": {
   "codemirror_mode": {
    "name": "ipython",
    "version": 3
   },
   "file_extension": ".py",
   "mimetype": "text/x-python",
   "name": "python",
   "nbconvert_exporter": "python",
   "pygments_lexer": "ipython3",
   "version": "3.12.4"
  }
 },
 "nbformat": 4,
 "nbformat_minor": 5
}
