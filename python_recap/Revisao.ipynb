{
 "cells": [
  {
   "cell_type": "markdown",
   "metadata": {},
   "source": [
    "# Coleções"
   ]
  },
  {
   "cell_type": "code",
   "execution_count": 1,
   "metadata": {},
   "outputs": [],
   "source": [
    "import numpy as np"
   ]
  },
  {
   "cell_type": "code",
   "execution_count": 2,
   "metadata": {},
   "outputs": [
    {
     "data": {
      "text/plain": [
       "1"
      ]
     },
     "execution_count": 2,
     "metadata": {},
     "output_type": "execute_result"
    }
   ],
   "source": [
    "tupla: tuple = ('Homo sapiens', 'Canis familiaris', 'Felis catus')\n",
    "\n",
    "### Não Lembrava o método .index()7\n",
    "tupla.index('Canis familiaris')"
   ]
  },
  {
   "cell_type": "code",
   "execution_count": 3,
   "metadata": {},
   "outputs": [
    {
     "data": {
      "text/plain": [
       "{'key 1': 1, 'key 2': 2, 'key 3': 3, 'key 4': 4, 'key 5': 5}"
      ]
     },
     "execution_count": 3,
     "metadata": {},
     "output_type": "execute_result"
    }
   ],
   "source": [
    "dicionario = {'key 1': 1, 'key 2': 2, 'key 3': 3, 'key 4': 4, 'key 5': 5}\n",
    "dicionario"
   ]
  },
  {
   "cell_type": "code",
   "execution_count": 4,
   "metadata": {},
   "outputs": [
    {
     "data": {
      "text/plain": [
       "{'key 1': 1, 'key 2': 2, 'key 4': 4, 'key 5': 5}"
      ]
     },
     "execution_count": 4,
     "metadata": {},
     "output_type": "execute_result"
    }
   ],
   "source": [
    "### Não sabia essa sintaxe\n",
    "del(dicionario)['key 3']\n",
    "dicionario"
   ]
  },
  {
   "cell_type": "code",
   "execution_count": 5,
   "metadata": {},
   "outputs": [
    {
     "name": "stdout",
     "output_type": "stream",
     "text": [
      "KEYS = dict_keys(['key 1', 'key 2', 'key 4', 'key 5']) \n",
      "VALUES = dict_values([1, 2, 4, 5]) \n",
      "ITEMS = dict_items([('key 1', 1), ('key 2', 2), ('key 4', 4), ('key 5', 5)]) \n"
     ]
    }
   ],
   "source": [
    "print(f'KEYS = {dicionario.keys()} ')\n",
    "print(f'VALUES = {dicionario.values()} ')\n",
    "print(f'ITEMS = {dicionario.items()} ')"
   ]
  },
  {
   "cell_type": "code",
   "execution_count": 6,
   "metadata": {},
   "outputs": [
    {
     "data": {
      "text/plain": [
       "{'key 6': 6, 'key 7': 7, 'key 8': 8, 'key 9': 9, 'key 10': 10}"
      ]
     },
     "execution_count": 6,
     "metadata": {},
     "output_type": "execute_result"
    }
   ],
   "source": [
    "outro_dicionario = {'key 6': 6, 'key 7': 7, 'key 8': 8, 'key 9': 9, 'key 10': 10}\n",
    "outro_dicionario\n"
   ]
  },
  {
   "cell_type": "code",
   "execution_count": 7,
   "metadata": {},
   "outputs": [
    {
     "data": {
      "text/plain": [
       "{'key 1': 1,\n",
       " 'key 2': 2,\n",
       " 'key 4': 4,\n",
       " 'key 5': 5,\n",
       " 'key 6': 6,\n",
       " 'key 7': 7,\n",
       " 'key 8': 8,\n",
       " 'key 9': 9,\n",
       " 'key 10': 10}"
      ]
     },
     "execution_count": 7,
     "metadata": {},
     "output_type": "execute_result"
    }
   ],
   "source": [
    "# Não lembrava\n",
    "dicionario.update(outro_dicionario)\n",
    "dicionario"
   ]
  },
  {
   "cell_type": "markdown",
   "metadata": {},
   "source": [
    "## Conjutos (sets)  \n",
    "- Elementos não se repetem\n",
    "\n"
   ]
  },
  {
   "cell_type": "code",
   "execution_count": 8,
   "metadata": {},
   "outputs": [
    {
     "data": {
      "text/plain": [
       "('proteína',\n",
       " 'ácidos nucleicos',\n",
       " 'carboidrato',\n",
       " 'lipídeo',\n",
       " 'ácidos nucleicos',\n",
       " 'carboidrato',\n",
       " 'carboidrato',\n",
       " 'carboidrato')"
      ]
     },
     "execution_count": 8,
     "metadata": {},
     "output_type": "execute_result"
    }
   ],
   "source": [
    "biomoleculas: tuple = ('proteína', 'ácidos nucleicos', 'carboidrato', 'lipídeo',\n",
    "                       'ácidos nucleicos', 'carboidrato', \"carboidrato\", 'carboidrato')\n",
    "biomoleculas\n"
   ]
  },
  {
   "cell_type": "code",
   "execution_count": 9,
   "metadata": {},
   "outputs": [
    {
     "data": {
      "text/plain": [
       "{'carboidrato', 'lipídeo', 'proteína', 'ácidos nucleicos'}"
      ]
     },
     "execution_count": 9,
     "metadata": {},
     "output_type": "execute_result"
    }
   ],
   "source": [
    "biomol : set = set(biomoleculas)\n",
    "biomol"
   ]
  },
  {
   "cell_type": "code",
   "execution_count": 10,
   "metadata": {},
   "outputs": [
    {
     "name": "stdout",
     "output_type": "stream",
     "text": [
      "intersecao={3, 4, 5} e diferenca={1, 2}\n"
     ]
    }
   ],
   "source": [
    "c1 = {1, 2, 3, 4, 5,}\n",
    "c2 = {3, 4, 5, 6, 7}\n",
    "\n",
    "intersecao = c1.intersection(c2)\n",
    "diferenca =  c1.difference(c2)\n",
    "\n",
    "print(f'{intersecao=} e {diferenca=}')"
   ]
  },
  {
   "cell_type": "code",
   "execution_count": 11,
   "metadata": {},
   "outputs": [
    {
     "data": {
      "text/plain": [
       "array([[ 4, 10, 12],\n",
       "       [12, 24, 54]])"
      ]
     },
     "execution_count": 11,
     "metadata": {},
     "output_type": "execute_result"
    }
   ],
   "source": [
    "matriz_2_3 = np.array([ [4, 10, 12],\n",
    "                        [12, 24, 54] ])\n",
    "\n",
    "matriz_2_3"
   ]
  },
  {
   "cell_type": "code",
   "execution_count": 12,
   "metadata": {},
   "outputs": [
    {
     "data": {
      "text/plain": [
       "(2, 3)"
      ]
     },
     "execution_count": 12,
     "metadata": {},
     "output_type": "execute_result"
    }
   ],
   "source": [
    "matriz_2_3.shape"
   ]
  },
  {
   "cell_type": "code",
   "execution_count": 13,
   "metadata": {},
   "outputs": [
    {
     "name": "stdout",
     "output_type": "stream",
     "text": [
      " Linha 0: [ 4 10 12]\n",
      " i= 0 ,  j = 0\n",
      "Elemento de matriz: \t 4\n",
      "\n",
      " i= 0 ,  j = 1\n",
      "Elemento de matriz: \t 10\n",
      "\n",
      " i= 0 ,  j = 2\n",
      "Elemento de matriz: \t 12\n",
      "\n",
      " Linha 1: [12 24 54]\n",
      " i= 1 ,  j = 0\n",
      "Elemento de matriz: \t 12\n",
      "\n",
      " i= 1 ,  j = 1\n",
      "Elemento de matriz: \t 24\n",
      "\n",
      " i= 1 ,  j = 2\n",
      "Elemento de matriz: \t 54\n",
      "\n"
     ]
    }
   ],
   "source": [
    "for i in range(matriz_2_3.shape[0]):\n",
    "    print(f' Linha {i}: {matriz_2_3[i]}') # printa linhas\n",
    "    for j in range(matriz_2_3.shape[1]):\n",
    "        print(f' i= {i} ,  j = {j}')\n",
    "        print('Elemento de matriz:' , f'\\t {matriz_2_3[i][j]}')\n",
    "        print()"
   ]
  },
  {
   "cell_type": "code",
   "execution_count": 14,
   "metadata": {},
   "outputs": [],
   "source": [
    "matriz = np.array([[3, 4, 1],\n",
    "                   [3, 1, 5]])"
   ]
  },
  {
   "cell_type": "code",
   "execution_count": 15,
   "metadata": {},
   "outputs": [],
   "source": [
    "soma  = 0 \n",
    "for i in range(matriz.shape[0]):\n",
    "    for j in range(matriz.shape[1]):\n",
    "        soma += matriz[i][j]\n"
   ]
  },
  {
   "cell_type": "code",
   "execution_count": 16,
   "metadata": {},
   "outputs": [
    {
     "data": {
      "text/plain": [
       "(np.int64(17), np.int64(17))"
      ]
     },
     "execution_count": 16,
     "metadata": {},
     "output_type": "execute_result"
    }
   ],
   "source": [
    "soma, np.sum(matriz)"
   ]
  },
  {
   "cell_type": "markdown",
   "metadata": {},
   "source": [
    "# Tratamento de erros e exceções - ```try - except```\n",
    "\n",
    "- NameError: variável nao foi definida\n",
    "- TypeError: tipos de dados incompatíveis\n",
    "- RuntimeError: erro de execução\n",
    "- SyntaxError: sintaxe digitada é inválida e não reconhecida pelo interpretador\n",
    "- ZeroDivisionError: divisão por zero\n",
    "- IndexError: índice está fora da coleção  \n",
    "\n",
    "\n",
    "Para revisar o conteúdo prático sobre tratamento de exceções, você pode fazer o exercício abaixo. Logo em seguida você pode acessar a aula em vídeo com a solução\n",
    "\n",
    ">Crie uma lista vazia e faça a leitura de dois valores do tipo float, colocando cada um dos valores nas primeiras posições da lista (o valor1 ficará na posição 0 da lista e o valor2 ficará na posição 1 da lista). Faça a divisão dos dois valores e trate as seguintes exceções:\n",
    "- ValueError: se o usuário digitar um caracter\n",
    "- ZeroDivisionError: se o usuário digitar zero e ocorrer erro na divisão\n",
    "- IndexError: caso a divisão seja feita levando em consideração posições que não existem na lista\n",
    "- KeyboardInterrupt: caso o usuário interrompa a execução\n",
    "\n",
    "\n",
    "\n",
    "Mostre uma mensagem personalizada na ocorrência de cada um desses erros\n",
    "\n",
    "Bom trabalho,\n",
    "\n",
    "Jones"
   ]
  },
  {
   "cell_type": "code",
   "execution_count": 17,
   "metadata": {},
   "outputs": [
    {
     "name": "stdout",
     "output_type": "stream",
     "text": [
      "A divisão é 0.6153846153846154\n"
     ]
    }
   ],
   "source": [
    "lista = []\n",
    "try:\n",
    "  lista.append(float(input('Digite o primeiro valor: ')))\n",
    "  lista.append(float(input('Digite o segundo valor: ')))\n",
    "  divisao = lista[0] / lista[1]\n",
    "\n",
    "except ValueError:\n",
    "  print('Erro! Valor inválido')\n",
    "except ZeroDivisionError:\n",
    "  print('Erro! Divisão por zero')\n",
    "except IndexError:\n",
    "  print('Erro! Índice inválido')\n",
    "except KeyboardInterrupt:\n",
    "  print('Usuário interrompeu a execução')\n",
    "else:\n",
    "  print(f'A divisão é {divisao}')"
   ]
  },
  {
   "cell_type": "markdown",
   "metadata": {},
   "source": [
    "#### Manipulação de Arquivos"
   ]
  },
  {
   "cell_type": "code",
   "execution_count": 18,
   "metadata": {},
   "outputs": [],
   "source": [
    "alunos = {'Pedro': 8.0, 'Maria': 10.0, 'Amilton': 7.5}"
   ]
  },
  {
   "cell_type": "code",
   "execution_count": 19,
   "metadata": {},
   "outputs": [],
   "source": [
    "with open('notas_alunos.txt', 'w') as arquivo:\n",
    "    for aluno, nota in alunos.items():  # print(aluno, nota)\n",
    "        arquivo.write(f'{aluno, nota}\\n')"
   ]
  },
  {
   "cell_type": "markdown",
   "metadata": {},
   "source": [
    "# Expressões Regulares  \n",
    "\n",
    "- Busca sofisticada por padrões\n",
    "- Procurar todas as palavras que começam com letra _maiúscula_ ou que começam com _maiúscula_ e terminam com _minúscula_\n",
    "- Que começam com 'a' e terminam com 'e'\n",
    "- Procurar e-mails, números de telefone, CEPs, etc  \n",
    "- Padrões de buscas são ilimitados  \n",
    "---\n",
    "\n",
    "Extrair todas as palavras que:  \n",
    "1. Começam com vogais e terminam com consoantes\n",
    "2. Possuem de 5 a 9 letras\n",
    "3. Trechos separados por ponto \".\"\n",
    "4. Começam com _c_, possuem 'r', 'e' ou 'u' no meio e terminam com 'a', 'l' ou 'x'\n",
    "\n",
    "---\n",
    "\n",
    "## Métodos\n",
    "1. ```search```: encontrar as posições de padrões dentro de uma string, se estes estiverem presentes\n",
    "2. ```match```: Encontrar se o começo de uma string é igual a um determinado padrão  \n",
    "3.```findall``` Encontrar todas as substrings em uma string que correspondam a um padrão.\n",
    "\n",
    "### Metacaracteres  \n",
    ".- Qualquer caractere (exceto linha nova)  \n",
    "\\w - Qualquer caractere alfanumérico  \n",
    "\\W - Qualquer caractere não-alfanumérico    \n",
    "\\d - Qualquer caractere que seja um dígito (0,9)  \n",
    "\\D - Qualquer caractere que não dígito  \n",
    "\\s - Espaço em branco  \n",
    "^ - Começa com  \n",
    "$ - Termina com  \n",
    "\"\\\" - usado antes de metacaracteres para especificar seu significado literal  \n",
    "\n",
    "## Quantificadores\n",
    "[] - opcional entre os que estão dentro dos colchetes  \n",
    "() - captura grupos de caracteres  \n",
    "\"*\"- zero a mais vezes   \n",
    "? - zero ou uma vez  \n",
    "\"+\" - uma ou mais vezes   \n",
    "{m.n} - de m a n vezes   \n",
    "| - ou   \n",
    "\n",
    "---\n",
    "\n",
    "- Expressão regular que detecta e-mails: \\w+@\\w+\\.w+\n"
   ]
  },
  {
   "cell_type": "code",
   "execution_count": 20,
   "metadata": {},
   "outputs": [],
   "source": [
    "import re"
   ]
  },
  {
   "cell_type": "code",
   "execution_count": 21,
   "metadata": {},
   "outputs": [],
   "source": [
    "frase = 'Olá, meu número de telefone é (42) 0000-0000'"
   ]
  },
  {
   "cell_type": "code",
   "execution_count": 1,
   "metadata": {},
   "outputs": [
    {
     "name": "stderr",
     "output_type": "stream",
     "text": [
      "<>:1: SyntaxWarning: invalid escape sequence '\\('\n",
      "<>:1: SyntaxWarning: invalid escape sequence '\\('\n",
      "C:\\Users\\VictorCampos\\AppData\\Local\\Temp\\ipykernel_39740\\1720626206.py:1: SyntaxWarning: invalid escape sequence '\\('\n",
      "  \"\"\"\n"
     ]
    },
    {
     "data": {
      "text/plain": [
       "'\\n \\\\( : parêntese\\n \\\\d : dígitos\\n \\\\d{4,5} : 4 ou dígitos\\n'"
      ]
     },
     "execution_count": 1,
     "metadata": {},
     "output_type": "execute_result"
    }
   ],
   "source": [
    "\"\"\"\n",
    " \\( : parêntese\n",
    " \\d : dígitos\n",
    " \\d{4,5} : 4 ou dígitos\n",
    "\"\"\"\n"
   ]
  },
  {
   "cell_type": "code",
   "execution_count": null,
   "metadata": {},
   "outputs": [],
   "source": []
  }
 ],
 "metadata": {
  "kernelspec": {
   "display_name": "base",
   "language": "python",
   "name": "python3"
  },
  "language_info": {
   "codemirror_mode": {
    "name": "ipython",
    "version": 3
   },
   "file_extension": ".py",
   "mimetype": "text/x-python",
   "name": "python",
   "nbconvert_exporter": "python",
   "pygments_lexer": "ipython3",
   "version": "3.12.7"
  }
 },
 "nbformat": 4,
 "nbformat_minor": 2
}
