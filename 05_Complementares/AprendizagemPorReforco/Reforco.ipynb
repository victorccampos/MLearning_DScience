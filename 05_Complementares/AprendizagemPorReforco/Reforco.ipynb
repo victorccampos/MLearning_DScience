{
 "cells": [
  {
   "cell_type": "code",
   "execution_count": 10,
   "id": "88c996d5-5a0f-4ede-8dd3-ea8ae82276c6",
   "metadata": {},
   "outputs": [],
   "source": [
    "import gym\n",
    "import random\n",
    "import numpy as np"
   ]
  },
  {
   "cell_type": "markdown",
   "id": "ddd8cb6f-d330-4736-8f0c-83cec0d23d71",
   "metadata": {},
   "source": [
    "**Referência**: https://www.learndatasci.com/tutorials/reinforcement-q-learning-scratch-python-openai-gym/  \n",
    "\n",
    "O `gym` deve estar na versão 0.17.3, verifique com:  \n",
    "```python\n",
    "!pip install gym==0.17.3\n",
    "gym.__version___\n",
    "```"
   ]
  },
  {
   "cell_type": "code",
   "execution_count": null,
   "id": "f50951d7-d605-4a1e-9e86-22594dda43fe",
   "metadata": {},
   "outputs": [],
   "source": [
    "! pip uninstall gym"
   ]
  },
  {
   "cell_type": "code",
   "execution_count": 2,
   "id": "2e7369f0-e6aa-4581-bb89-502ae963270b",
   "metadata": {},
   "outputs": [
    {
     "data": {
      "text/plain": [
       "'0.17.3'"
      ]
     },
     "execution_count": 2,
     "metadata": {},
     "output_type": "execute_result"
    }
   ],
   "source": [
    "gym.__version__"
   ]
  },
  {
   "cell_type": "markdown",
   "id": "c0c15df7-61df-4a49-bb1c-bae39cfad713",
   "metadata": {},
   "source": [
    "**Problema do Taxi**  \n",
    "https://gymnasium.farama.org/environments/toy_text/taxi/\n"
   ]
  },
  {
   "cell_type": "code",
   "execution_count": 3,
   "id": "5d61d5ee-0e82-4f8d-bf9f-238fcaec0225",
   "metadata": {},
   "outputs": [],
   "source": [
    "env = gym.make('Taxi-v3').env"
   ]
  },
  {
   "cell_type": "code",
   "execution_count": 8,
   "id": "f3338220-a7ad-4113-8e0c-741203debac4",
   "metadata": {},
   "outputs": [
    {
     "name": "stdout",
     "output_type": "stream",
     "text": [
      "+---------+\n",
      "|R: | : :\u001b[34;1mG\u001b[0m|\n",
      "| : | : : |\n",
      "| : : : : |\n",
      "| |\u001b[43m \u001b[0m: | : |\n",
      "|\u001b[35mY\u001b[0m| : |B: |\n",
      "+---------+\n",
      "\n"
     ]
    }
   ],
   "source": [
    "env.render() # Matriz 5x4"
   ]
  },
  {
   "cell_type": "markdown",
   "id": "6d117525-86cb-4b8d-b883-09003fc87f1e",
   "metadata": {},
   "source": [
    "## Treinamento  "
   ]
  },
  {
   "cell_type": "markdown",
   "id": "64aa72b0-2202-41c4-b3fa-875449ef02f4",
   "metadata": {},
   "source": [
    "$$ Q(t| s,a) = Q(t-1|s,a) + \\alpha T D_t(a,s) $$"
   ]
  },
  {
   "cell_type": "code",
   "execution_count": 12,
   "id": "f83bc379-3716-4fe0-8cff-0523dea5090c",
   "metadata": {},
   "outputs": [],
   "source": [
    "### Tabela Q de tamanho 500x6 \n",
    "q_table = np.zeros([env.observation_space.n, env.action_space.n])"
   ]
  },
  {
   "cell_type": "code",
   "execution_count": 13,
   "id": "51c95476-0855-4a37-9684-043d142f481b",
   "metadata": {},
   "outputs": [
    {
     "name": "stdout",
     "output_type": "stream",
     "text": [
      "Episode: 100000\n",
      "Training finished.\n",
      "\n",
      "CPU times: total: 33.8 s\n",
      "Wall time: 1min 24s\n"
     ]
    }
   ],
   "source": [
    "%%time\n",
    "\"\"\"Training the agent\"\"\"\n",
    "\n",
    "from IPython.display import clear_output\n",
    "\n",
    "# Hyperparameters\n",
    "alpha = 0.1\n",
    "gamma = 0.6\n",
    "epsilon = 0.1\n",
    "\n",
    "# For plotting metrics\n",
    "all_epochs = []\n",
    "all_penalties = []\n",
    "\n",
    "for i in range(1, 100_001):\n",
    "    state = env.reset()\n",
    "\n",
    "    epochs, penalties, reward, = 0, 0, 0\n",
    "    done = False # Controla se terminou ou não a execução\n",
    "    \n",
    "    while not done:\n",
    "        if random.uniform(0, 1) < epsilon:\n",
    "            action = env.action_space.sample() # Explore action space - com ação randomica sample()\n",
    "        else:\n",
    "            action = np.argmax(q_table[state]) # Exploit learned values\n",
    "\n",
    "        next_state, reward, done, info = env.step(action) # Move o taxi\n",
    "                            # Linha, coluna\n",
    "        old_value = q_table[state, action]\n",
    "        next_max = np.max(q_table[next_state])\n",
    "                        \n",
    "        new_value = (1 - alpha) * old_value + alpha * (reward + gamma * next_max)\n",
    "        q_table[state, action] = new_value\n",
    "\n",
    "        if reward == -10:\n",
    "            penalties += 1\n",
    "\n",
    "        state = next_state\n",
    "        epochs += 1\n",
    "        \n",
    "    if i % 100 == 0:\n",
    "        clear_output(wait=True)\n",
    "        print(f\"Episode: {i}\")\n",
    "\n",
    "print(\"Training finished.\\n\")"
   ]
  },
  {
   "cell_type": "code",
   "execution_count": 15,
   "id": "92935d85-42ef-429c-8838-fb6e023a57cc",
   "metadata": {},
   "outputs": [
    {
     "data": {
      "text/plain": [
       "array([ -2.49477071,  -2.4936525 ,  -2.4936525 ,  -2.49443287,\n",
       "       -10.73922445,  -9.04376358])"
      ]
     },
     "execution_count": 15,
     "metadata": {},
     "output_type": "execute_result"
    }
   ],
   "source": [
    "q_table[424]"
   ]
  },
  {
   "cell_type": "code",
   "execution_count": 16,
   "id": "edcb3552-aae3-4e8e-909f-8e6d025baa01",
   "metadata": {},
   "outputs": [
    {
     "name": "stdout",
     "output_type": "stream",
     "text": [
      "+---------+\n",
      "|\u001b[35m\u001b[34;1m\u001b[43mR\u001b[0m\u001b[0m\u001b[0m: | : :G|\n",
      "| : | : : |\n",
      "| : : : : |\n",
      "| | : | : |\n",
      "|Y| : |B: |\n",
      "+---------+\n",
      "  (Dropoff)\n"
     ]
    }
   ],
   "source": [
    "env.render()"
   ]
  },
  {
   "cell_type": "code",
   "execution_count": 17,
   "id": "5c386a36-120c-4cb7-a5e8-2359999900db",
   "metadata": {},
   "outputs": [
    {
     "name": "stdout",
     "output_type": "stream",
     "text": [
      "+---------+\n",
      "|R: | : :\u001b[35mG\u001b[0m|\n",
      "| : | : : |\n",
      "| : : : :\u001b[43m \u001b[0m|\n",
      "| | : | : |\n",
      "|Y| : |\u001b[34;1mB\u001b[0m: |\n",
      "+---------+\n",
      "\n"
     ]
    }
   ],
   "source": [
    "env.reset()\n",
    "env.render()"
   ]
  },
  {
   "cell_type": "markdown",
   "id": "264e85f8-a794-47cf-9a0b-a98014d54ced",
   "metadata": {},
   "source": [
    "Vamos buscar o estado dessa posição da célula acima"
   ]
  },
  {
   "cell_type": "code",
   "execution_count": null,
   "id": "4a27e24d-4953-4e82-bede-d177d71ed9a3",
   "metadata": {},
   "outputs": [],
   "source": [
    "env.encode(taxi_row, taxi_col, pass_loc, dest_idx)"
   ]
  },
  {
   "cell_type": "code",
   "execution_count": 21,
   "id": "31885aee-d5aa-4a5e-8a8e-c86d09ae46d6",
   "metadata": {},
   "outputs": [
    {
     "ename": "SyntaxError",
     "evalue": "positional argument follows keyword argument (596646789.py, line 1)",
     "output_type": "error",
     "traceback": [
      "\u001b[1;36m  Cell \u001b[1;32mIn[21], line 1\u001b[1;36m\u001b[0m\n\u001b[1;33m    env.encode(taxi_row=2, taxi_col=4, 3)\u001b[0m\n\u001b[1;37m                                        ^\u001b[0m\n\u001b[1;31mSyntaxError\u001b[0m\u001b[1;31m:\u001b[0m positional argument follows keyword argument\n"
     ]
    }
   ],
   "source": []
  }
 ],
 "metadata": {
  "kernelspec": {
   "display_name": "Python 3 (ipykernel)",
   "language": "python",
   "name": "python3"
  },
  "language_info": {
   "codemirror_mode": {
    "name": "ipython",
    "version": 3
   },
   "file_extension": ".py",
   "mimetype": "text/x-python",
   "name": "python",
   "nbconvert_exporter": "python",
   "pygments_lexer": "ipython3",
   "version": "3.12.4"
  }
 },
 "nbformat": 4,
 "nbformat_minor": 5
}
