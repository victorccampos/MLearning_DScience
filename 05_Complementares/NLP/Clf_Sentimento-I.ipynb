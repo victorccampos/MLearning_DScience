{
 "cells": [
  {
   "cell_type": "code",
   "execution_count": null,
   "metadata": {},
   "outputs": [],
   "source": [
    "import pandas as pd\n",
    "import string # pré-processamento\n",
    "import spacy\n",
    "import random \n",
    "import seaborn as sns\n",
    "import matplotlib.pyplot as plt\n",
    "import numpy as np\n",
    "\n",
    "from spacy.lang.pt.stop_words import STOP_WORDS"
   ]
  },
  {
   "cell_type": "markdown",
   "metadata": {},
   "source": [
    "O spacy na classificação de sentimentos trabalha com redes neurais convolucionais. Na aula ```spacy.__version__ = '2.2.3'```. Iremos classificar em **alegria** e **medo**\n"
   ]
  },
  {
   "cell_type": "code",
   "execution_count": null,
   "metadata": {},
   "outputs": [],
   "source": [
    "modelo_pt_br = 'pt_core_news_sm'"
   ]
  },
  {
   "cell_type": "code",
   "execution_count": null,
   "metadata": {},
   "outputs": [
    {
     "data": {
      "text/html": [
       "<div>\n",
       "<style scoped>\n",
       "    .dataframe tbody tr th:only-of-type {\n",
       "        vertical-align: middle;\n",
       "    }\n",
       "\n",
       "    .dataframe tbody tr th {\n",
       "        vertical-align: top;\n",
       "    }\n",
       "\n",
       "    .dataframe thead th {\n",
       "        text-align: right;\n",
       "    }\n",
       "</style>\n",
       "<table border=\"1\" class=\"dataframe\">\n",
       "  <thead>\n",
       "    <tr style=\"text-align: right;\">\n",
       "      <th></th>\n",
       "      <th>texto</th>\n",
       "      <th>emocao</th>\n",
       "    </tr>\n",
       "  </thead>\n",
       "  <tbody>\n",
       "    <tr>\n",
       "      <th>0</th>\n",
       "      <td>este trabalho é agradável</td>\n",
       "      <td>alegria</td>\n",
       "    </tr>\n",
       "    <tr>\n",
       "      <th>1</th>\n",
       "      <td>gosto de ficar no seu aconchego</td>\n",
       "      <td>alegria</td>\n",
       "    </tr>\n",
       "    <tr>\n",
       "      <th>2</th>\n",
       "      <td>fiz a adesão ao curso hoje</td>\n",
       "      <td>alegria</td>\n",
       "    </tr>\n",
       "    <tr>\n",
       "      <th>3</th>\n",
       "      <td>eu sou admirada por muitos</td>\n",
       "      <td>alegria</td>\n",
       "    </tr>\n",
       "    <tr>\n",
       "      <th>4</th>\n",
       "      <td>adoro como você</td>\n",
       "      <td>alegria</td>\n",
       "    </tr>\n",
       "    <tr>\n",
       "      <th>...</th>\n",
       "      <td>...</td>\n",
       "      <td>...</td>\n",
       "    </tr>\n",
       "    <tr>\n",
       "      <th>191</th>\n",
       "      <td>estou chocado e amedrontado com este assassina...</td>\n",
       "      <td>medo</td>\n",
       "    </tr>\n",
       "    <tr>\n",
       "      <th>192</th>\n",
       "      <td>é preciso afugenta com ímpeto este medo do inf...</td>\n",
       "      <td>medo</td>\n",
       "    </tr>\n",
       "    <tr>\n",
       "      <th>193</th>\n",
       "      <td>políticos usam suas forças para afugentar e am...</td>\n",
       "      <td>medo</td>\n",
       "    </tr>\n",
       "    <tr>\n",
       "      <th>194</th>\n",
       "      <td>o objetivo disso e apenas me amedrontar mais</td>\n",
       "      <td>medo</td>\n",
       "    </tr>\n",
       "    <tr>\n",
       "      <th>195</th>\n",
       "      <td>isso me apavora</td>\n",
       "      <td>medo</td>\n",
       "    </tr>\n",
       "  </tbody>\n",
       "</table>\n",
       "<p>196 rows × 2 columns</p>\n",
       "</div>"
      ],
      "text/plain": [
       "                                                 texto   emocao\n",
       "0                            este trabalho é agradável  alegria\n",
       "1                      gosto de ficar no seu aconchego  alegria\n",
       "2                           fiz a adesão ao curso hoje  alegria\n",
       "3                           eu sou admirada por muitos  alegria\n",
       "4                                      adoro como você  alegria\n",
       "..                                                 ...      ...\n",
       "191  estou chocado e amedrontado com este assassina...     medo\n",
       "192  é preciso afugenta com ímpeto este medo do inf...     medo\n",
       "193  políticos usam suas forças para afugentar e am...     medo\n",
       "194       o objetivo disso e apenas me amedrontar mais     medo\n",
       "195                                    isso me apavora     medo\n",
       "\n",
       "[196 rows x 2 columns]"
      ]
     },
     "execution_count": 3,
     "metadata": {},
     "output_type": "execute_result"
    }
   ],
   "source": [
    "# Carregamento da base de dados \"base_treinamento.txt\" e \"base_teste.txt\"\n",
    "db = pd.read_csv('base_treinamento.txt', encoding='utf-8')\n",
    "db"
   ]
  },
  {
   "cell_type": "code",
   "execution_count": null,
   "metadata": {},
   "outputs": [
    {
     "data": {
      "text/plain": [
       "(array(['alegria', 'medo'], dtype=object), array([112,  84]))"
      ]
     },
     "execution_count": 4,
     "metadata": {},
     "output_type": "execute_result"
    },
    {
     "data": {
      "image/png": "[encoded data removed]",
      "text/plain": [
       "<Figure size 640x480 with 1 Axes>"
      ]
     },
     "metadata": {},
     "output_type": "display_data"
    }
   ],
   "source": [
    "plt.title(\"Contagem de ocorrências\")\n",
    "sns.countplot(db['emocao']);\n",
    "np.unique(db['emocao'], return_counts=True)\n"
   ]
  },
  {
   "cell_type": "markdown",
   "metadata": {},
   "source": [
    "### Pré-processamento  \n",
    "- ```string.punctuation```  \n",
    "- ```STOP_WORDS```"
   ]
  },
  {
   "cell_type": "code",
   "execution_count": null,
   "metadata": {},
   "outputs": [
    {
     "data": {
      "text/plain": [
       "<spacy.lang.pt.Portuguese at 0x70a6ece04470>"
      ]
     },
     "execution_count": 5,
     "metadata": {},
     "output_type": "execute_result"
    }
   ],
   "source": [
    "PLN = spacy.load(modelo_pt_br)\n",
    "PLN"
   ]
  },
  {
   "cell_type": "code",
   "execution_count": null,
   "metadata": {},
   "outputs": [],
   "source": [
    "def pre_processamento(texto: str) -> list:\n",
    "    \"\"\"\n",
    "    Percorrer os valores de uma str e adiciona o lema destes na lista\n",
    "    \"\"\" \n",
    "    texto = texto.lower()\n",
    "    documento = PLN(text=texto)\n",
    "\n",
    "    lista = []\n",
    "    # Tokenizacao\n",
    "    for token in documento:\n",
    "        lista.append(token.lemma_)\n",
    "    \n",
    "    # Remocao de Stop word\n",
    "    lista = [palavra for palavra in lista if palavra not in STOP_WORDS and palavra not in string.punctuation]\n",
    "    \n",
    "    # Formato de texto -- # '59'.isdigit() > True\n",
    "    lista = ' '.join( str(elemento) for elemento in lista if not elemento.isdigit() )\n",
    "    \n",
    "    return lista"
   ]
  },
  {
   "cell_type": "code",
   "execution_count": null,
   "metadata": {},
   "outputs": [],
   "source": [
    "teste: str  = 'Estou aprendendo processamento 2 10 23 de linguagem natural, Curso em Curitiba'"
   ]
  },
  {
   "cell_type": "code",
   "execution_count": null,
   "metadata": {},
   "outputs": [
    {
     "data": {
      "text/plain": [
       "'aprender processamento linguagem natural curso curitber'"
      ]
     },
     "execution_count": 8,
     "metadata": {},
     "output_type": "execute_result"
    }
   ],
   "source": [
    "pre_processamento(teste)"
   ]
  },
  {
   "cell_type": "code",
   "execution_count": null,
   "metadata": {},
   "outputs": [],
   "source": [
    "db['texto'] = db['texto'].apply(pre_processamento)"
   ]
  },
  {
   "cell_type": "code",
   "execution_count": null,
   "metadata": {},
   "outputs": [
    {
     "data": {
      "text/html": [
       "<div>\n",
       "<style scoped>\n",
       "    .dataframe tbody tr th:only-of-type {\n",
       "        vertical-align: middle;\n",
       "    }\n",
       "\n",
       "    .dataframe tbody tr th {\n",
       "        vertical-align: top;\n",
       "    }\n",
       "\n",
       "    .dataframe thead th {\n",
       "        text-align: right;\n",
       "    }\n",
       "</style>\n",
       "<table border=\"1\" class=\"dataframe\">\n",
       "  <thead>\n",
       "    <tr style=\"text-align: right;\">\n",
       "      <th></th>\n",
       "      <th>texto</th>\n",
       "      <th>emocao</th>\n",
       "    </tr>\n",
       "  </thead>\n",
       "  <tbody>\n",
       "    <tr>\n",
       "      <th>0</th>\n",
       "      <td>trabalho agradável</td>\n",
       "      <td>alegria</td>\n",
       "    </tr>\n",
       "    <tr>\n",
       "      <th>1</th>\n",
       "      <td>gostar ficar em o aconchego</td>\n",
       "      <td>alegria</td>\n",
       "    </tr>\n",
       "    <tr>\n",
       "      <th>2</th>\n",
       "      <td>fiz adesão a o curso hoje</td>\n",
       "      <td>alegria</td>\n",
       "    </tr>\n",
       "    <tr>\n",
       "      <th>3</th>\n",
       "      <td>admirar</td>\n",
       "      <td>alegria</td>\n",
       "    </tr>\n",
       "    <tr>\n",
       "      <th>4</th>\n",
       "      <td>adorar</td>\n",
       "      <td>alegria</td>\n",
       "    </tr>\n",
       "    <tr>\n",
       "      <th>...</th>\n",
       "      <td>...</td>\n",
       "      <td>...</td>\n",
       "    </tr>\n",
       "    <tr>\n",
       "      <th>191</th>\n",
       "      <td>chocado amedrontar assassinato brutal</td>\n",
       "      <td>medo</td>\n",
       "    </tr>\n",
       "    <tr>\n",
       "      <th>192</th>\n",
       "      <td>preciso afugentar ímpeto medo de o inferno</td>\n",
       "      <td>medo</td>\n",
       "    </tr>\n",
       "    <tr>\n",
       "      <th>193</th>\n",
       "      <td>político força afugentar amedrontar</td>\n",
       "      <td>medo</td>\n",
       "    </tr>\n",
       "    <tr>\n",
       "      <th>194</th>\n",
       "      <td>objetivo de isso amedrontar</td>\n",
       "      <td>medo</td>\n",
       "    </tr>\n",
       "    <tr>\n",
       "      <th>195</th>\n",
       "      <td>apavorar</td>\n",
       "      <td>medo</td>\n",
       "    </tr>\n",
       "  </tbody>\n",
       "</table>\n",
       "<p>196 rows × 2 columns</p>\n",
       "</div>"
      ],
      "text/plain": [
       "                                          texto   emocao\n",
       "0                            trabalho agradável  alegria\n",
       "1                   gostar ficar em o aconchego  alegria\n",
       "2                     fiz adesão a o curso hoje  alegria\n",
       "3                                       admirar  alegria\n",
       "4                                        adorar  alegria\n",
       "..                                          ...      ...\n",
       "191       chocado amedrontar assassinato brutal     medo\n",
       "192  preciso afugentar ímpeto medo de o inferno     medo\n",
       "193         político força afugentar amedrontar     medo\n",
       "194                 objetivo de isso amedrontar     medo\n",
       "195                                    apavorar     medo\n",
       "\n",
       "[196 rows x 2 columns]"
      ]
     },
     "execution_count": 10,
     "metadata": {},
     "output_type": "execute_result"
    }
   ],
   "source": [
    "db"
   ]
  },
  {
   "cell_type": "markdown",
   "metadata": {},
   "source": [
    "## Tratamento da Classe"
   ]
  },
  {
   "cell_type": "code",
   "execution_count": null,
   "metadata": {},
   "outputs": [
    {
     "data": {
      "text/plain": [
       "[['trabalho agradável', {'ALEGRIA': True, 'MEDO': False}],\n",
       " ['gostar ficar em o aconchego', {'ALEGRIA': True, 'MEDO': False}],\n",
       " ['fiz adesão a o curso hoje', {'ALEGRIA': True, 'MEDO': False}],\n",
       " ['admirar', {'ALEGRIA': True, 'MEDO': False}],\n",
       " ['adorar', {'ALEGRIA': True, 'MEDO': False}],\n",
       " ['adorar cabelo macio', {'ALEGRIA': True, 'MEDO': False}],\n",
       " ['adorar cor de o olho', {'ALEGRIA': True, 'MEDO': False}],\n",
       " ['somo amável outro', {'ALEGRIA': True, 'MEDO': False}],\n",
       " ['sinto afeição', {'ALEGRIA': True, 'MEDO': False}],\n",
       " ['querer agradar filho', {'ALEGRIA': True, 'MEDO': False}]]"
      ]
     },
     "execution_count": 11,
     "metadata": {},
     "output_type": "execute_result"
    }
   ],
   "source": [
    "db_final =  []\n",
    "\n",
    "for texto, emocao in zip(db['texto'], db['emocao']):\n",
    "\n",
    "    if emocao == 'alegria':\n",
    "        dic = ({'ALEGRIA': True, 'MEDO': False})\n",
    "    else:\n",
    "        dic = ({'ALEGRIA': False, 'MEDO': True})\n",
    "\n",
    "    db_final.append([texto, dic.copy()])\n",
    "db_final[:10]\n"
   ]
  },
  {
   "cell_type": "markdown",
   "metadata": {},
   "source": [
    "## Criação do Classificador - Rede Neural"
   ]
  },
  {
   "cell_type": "code",
   "execution_count": null,
   "metadata": {},
   "outputs": [
    {
     "data": {
      "text/plain": [
       "'pt_core_news_sm'"
      ]
     },
     "execution_count": 12,
     "metadata": {},
     "output_type": "execute_result"
    }
   ],
   "source": [
    "modelo_pt_br"
   ]
  },
  {
   "cell_type": "code",
   "execution_count": null,
   "metadata": {},
   "outputs": [],
   "source": [
    "# NN\n",
    "modelo = spacy.blank('pt') #  ... = 'pt' \n",
    "\n",
    "# Labels \n",
    "categorias = modelo.add_pipe('textcat') # text category\n",
    "categorias.add_label(\"ALEGRIA\")\n",
    "categorias.add_label(\"MEDO\")\n",
    "\n",
    "# modelo.add_pipe(categorias)\n",
    "\n",
    "# Armazenar os resultados\n",
    "historico = []"
   ]
  },
  {
   "cell_type": "code",
   "execution_count": null,
   "metadata": {},
   "outputs": [
    {
     "name": "stdout",
     "output_type": "stream",
     "text": [
      "Losses: {'textcat': 1.7143274992704391}\n",
      "Losses: {'textcat': 4.462947459510369e-11}\n",
      "Losses: {'textcat': 5.607058437342993e-12}\n",
      "Losses: {'textcat': 1.3724281517561547e-12}\n",
      "Losses: {'textcat': 4.2801549420868907e-13}\n",
      "Losses: {'textcat': 1.9559594185470947e-13}\n",
      "Losses: {'textcat': 7.7527803343531e-14}\n",
      "Losses: {'textcat': 3.963494440318443e-14}\n",
      "Losses: {'textcat': 1.7433623014783827e-14}\n",
      "Losses: {'textcat': 1.0797976858630768e-14}\n"
     ]
    }
   ],
   "source": [
    "from spacy.training import Example\n",
    "\n",
    "# Iniciar o treinamento\n",
    "modelo.begin_training()\n",
    "\n",
    "for epoca in range(1_000):\n",
    "    random.shuffle(db_final)  # Embaralha os dados de treinamento\n",
    "\n",
    "    # Controlar o erro\n",
    "    losses = {}\n",
    "\n",
    "    # Processar os lotes\n",
    "    for batch in spacy.util.minibatch(db_final, size=30):\n",
    "        textos = [modelo.make_doc(texto) for texto, _ in batch]\n",
    "        annotations = [{\"cats\": entities} for _, entities in batch]\n",
    "        \n",
    "        # Criar os exemplos no formato novo\n",
    "        exemplos = [Example.from_dict(doc, annotation) for doc, annotation in zip(textos, annotations)]\n",
    "        \n",
    "        # Atualizar o modelo com os exemplos\n",
    "        modelo.update(examples=exemplos, losses=losses)\n",
    "\n",
    "    # Monitorar o progresso a cada 100 épocas\n",
    "    if epoca % 100 == 0:\n",
    "        print(f\"Losses: {losses}\")\n",
    "        historico.append(losses)\n"
   ]
  },
  {
   "cell_type": "code",
   "execution_count": null,
   "metadata": {},
   "outputs": [],
   "source": [
    "erros = [ historico[i].get('textcat') for i in range(len(historico))]"
   ]
  },
  {
   "cell_type": "code",
   "execution_count": null,
   "metadata": {},
   "outputs": [
    {
     "data": {
      "text/plain": [
       "[100, 200, 300, 400, 500, 600, 700, 800, 900, 1000]"
      ]
     },
     "execution_count": 62,
     "metadata": {},
     "output_type": "execute_result"
    }
   ],
   "source": [
    "[i*100 for i in range(1,11)]"
   ]
  },
  {
   "cell_type": "code",
   "execution_count": null,
   "metadata": {},
   "outputs": [
    {
     "data": {
      "image/png": "[encoded data removed]",
      "text/plain": [
       "<Figure size 640x480 with 1 Axes>"
      ]
     },
     "metadata": {},
     "output_type": "display_data"
    }
   ],
   "source": [
    "plt.title(\"Progressão de erro\");\n",
    "plt.xlabel(\"Épocas\");\n",
    "plt.ylabel(\"erro\");\n",
    "plt.plot(erros);"
   ]
  },
  {
   "cell_type": "code",
   "execution_count": null,
   "metadata": {},
   "outputs": [],
   "source": [
    "# Cria uma pasta do modelo criado nesse notebook\n",
    "modelo.to_disk(\"trained_model\")"
   ]
  }
 ],
 "metadata": {
  "kernelspec": {
   "display_name": "NLP",
   "language": "python",
   "name": "python3"
  },
  "language_info": {
   "codemirror_mode": {
    "name": "ipython",
    "version": 3
   },
   "file_extension": ".py",
   "mimetype": "text/x-python",
   "name": "python",
   "nbconvert_exporter": "python",
   "pygments_lexer": "ipython3",
   "version": "3.12.7"
  }
 },
 "nbformat": 4,
 "nbformat_minor": 2
}
