{
 "cells": [
  {
   "cell_type": "markdown",
   "id": "e8430a4b-c99c-42e0-8c4e-2cc212b43aa7",
   "metadata": {},
   "source": [
    "## Avaliando algoritmos de Classificação - Tuning de parâmetros com `GridSearch`  \n",
    "- Näive Bayes: 93.80   \n",
    "- Árvore de decisão: 98.2\n",
    "- Random Forest: 98.40\n",
    "- Regras: 97.40\n",
    "- Knn: 98.60\n",
    "- Regressão Logística: 94.60\n",
    "- SVM: 98.8"
   ]
  },
  {
   "cell_type": "code",
   "execution_count": 1,
   "id": "a7fedf73-64cb-4a88-8159-b8ca4d43d5b6",
   "metadata": {},
   "outputs": [],
   "source": [
    "import pickle\n",
    "import numpy as np\n",
    "\n",
    "# Para não aparecer avisos de warning no GridSearchCV\n",
    "# Quando chegar na parte da rede neural - convergência\n",
    "import warnings\n",
    "warnings.filterwarnings('ignore')"
   ]
  },
  {
   "cell_type": "code",
   "execution_count": 2,
   "id": "1df51bcf-dbef-4624-8364-77e79816b3c5",
   "metadata": {},
   "outputs": [],
   "source": [
    "from sklearn.model_selection import GridSearchCV"
   ]
  },
  {
   "cell_type": "code",
   "execution_count": 3,
   "id": "a5729b35-9cab-4d23-8af6-782ae668f162",
   "metadata": {},
   "outputs": [],
   "source": [
    "from sklearn.tree import DecisionTreeClassifier      # Arvore de Decisão\n",
    "from sklearn.ensemble import RandomForestClassifier  # RandomForest\n",
    "from sklearn.neighbors import KNeighborsClassifier   # k-vizinhos mais próximos (KNN)\n",
    "from sklearn.linear_model import LogisticRegression # Regressão Logística\n",
    "from sklearn.svm import SVC                          # Maquina de Vetor Suporte SVM\n",
    "from sklearn.neural_network import MLPClassifier     # Multlayer Perceptron"
   ]
  },
  {
   "cell_type": "code",
   "execution_count": 4,
   "id": "c325c320-f483-401d-bad4-544fe06d73e4",
   "metadata": {},
   "outputs": [],
   "source": [
    "with open('credit.pkl', 'rb') as file:\n",
    "    X_credit_train, y_credit_train, X_credit_test, y_credit_test = pickle.load(file)"
   ]
  },
  {
   "cell_type": "code",
   "execution_count": 5,
   "id": "9d2a5e68-7652-41b8-b98b-3d3c482f3cb0",
   "metadata": {},
   "outputs": [
    {
     "name": "stdout",
     "output_type": "stream",
     "text": [
      "Base teste - shape: ((1500, 3), (1500,))\n",
      "Base treino - shape: ((500, 3), (500,))\n"
     ]
    }
   ],
   "source": [
    "print(f'Base teste - shape: {X_credit_train.shape, y_credit_train.shape}') # 1500\n",
    "print(f'Base treino - shape: {X_credit_test.shape, y_credit_test.shape}') # 500"
   ]
  },
  {
   "cell_type": "markdown",
   "id": "c8c07f1b-6699-4da8-b9ea-2355ab016c5e",
   "metadata": {},
   "source": [
    "Ao fazer o CrossValidation (CV) usaremos todos os registros. Para isso, concatena-se os arrays usando numpy."
   ]
  },
  {
   "cell_type": "code",
   "execution_count": 6,
   "id": "f0a910fc-fca9-47b0-a9b4-31f3f198249f",
   "metadata": {},
   "outputs": [
    {
     "name": "stdout",
     "output_type": "stream",
     "text": [
      "X_credit.shape=(2000, 3), y_credit.shape=(2000,)\n"
     ]
    }
   ],
   "source": [
    "X_credit = np.concatenate( (X_credit_train, X_credit_test), \n",
    "                          axis=0)\n",
    "y_credit = np.concatenate( (y_credit_train, y_credit_test),\n",
    "                          axis=0)\n",
    "\n",
    "print(f'{X_credit.shape=}, {y_credit.shape=}')"
   ]
  },
  {
   "cell_type": "markdown",
   "id": "aeac6e20-96ae-447c-b446-6d76455dd3bf",
   "metadata": {},
   "source": [
    "A classe GridSearchCV recebe como parâmetro `param_grid`. Abaixo encontra-se o dicionário contendo os parâmetros de cada classificador que iremos testar."
   ]
  },
  {
   "cell_type": "code",
   "execution_count": 7,
   "id": "18de423e-6293-46ad-a81d-32882f8bacbc",
   "metadata": {},
   "outputs": [],
   "source": [
    "params_forest = {\n",
    "    'criterion': ['gini', 'entropy'],\n",
    "    'splitter': ['best', 'random'],\n",
    "    'min_samples_split': [2, 5, 10],\n",
    "    'min_samples_leaf': [1, 5, 10]\n",
    "}\n",
    "params_rnd_forest = {\n",
    "    'criterion': ['gini', 'entropy'],\n",
    "    'n_estimators': [10, 40, 100, 150],\n",
    "    'min_samples_split': [2, 5, 10],\n",
    "    'min_samples_leaf': [1,5, 10]\n",
    "}\n",
    "params_knn = {'n_neighbors': [ 3, 5, 10, 20], 'p': [1, 2]}\n",
    "params_lr = {\n",
    "    'tol': [1e-4, 1e-5, 1e-6], \n",
    "    'C': [1.0, 1.5, 2.0],\n",
    "    'solver': ['lbfgs', 'sag', 'saga']\n",
    "}\n",
    "params_svm = {\n",
    "    'tol': [1e-3, 1e-4, 1e-5], \n",
    "    'C': [1.0, 1.5, 2.0],\n",
    "    'kernel': ['rbf', 'linear', 'poly', 'sigmoid']\n",
    "}\n",
    "params_mlpc = {\n",
    "    'activation': ['relu', 'logistic', 'tanh'],\n",
    "    'solver': ['adam', 'sgd'], \n",
    "    'batch_size': [10, 56]\n",
    "}"
   ]
  },
  {
   "cell_type": "code",
   "execution_count": 8,
   "id": "e1249f89-7b55-4fd0-9a30-d1fa39938c24",
   "metadata": {},
   "outputs": [],
   "source": [
    "### Instanciando os classificadores sem hiperparâmetros ###\n",
    "\n",
    "# Arvore de Decisao\n",
    "forest = DecisionTreeClassifier()\n",
    "\n",
    "# RandomForest\n",
    "rnd_forest = RandomForestClassifier() \n",
    "\n",
    "# KNN\n",
    "knn = KNeighborsClassifier()     \n",
    "\n",
    "# Regressao Linear\n",
    "lr = LogisticRegression()\n",
    "\n",
    "# SVM\n",
    "svm = SVC()\n",
    "\n",
    "# MLP \n",
    "mlpc = MLPClassifier()"
   ]
  },
  {
   "cell_type": "code",
   "execution_count": 9,
   "id": "0fe97178-829f-424f-a8d4-adc59b7b9d93",
   "metadata": {},
   "outputs": [],
   "source": [
    "classificadores = {\n",
    "    'FOREST': forest,\n",
    "    'RF': rnd_forest,\n",
    "    'KNN':knn,\n",
    "    'SVM':svm,\n",
    "    'LR':lr,\n",
    "    'MLP':mlpc\n",
    "}\n",
    "\n",
    "param_grids = {\n",
    "    'FOREST': params_forest,\n",
    "    'RF':params_rnd_forest,\n",
    "    'KNN':params_knn,\n",
    "    'SVM':params_svm,\n",
    "    'LR':params_lr,\n",
    "    'MLP':params_mlpc\n",
    "}"
   ]
  },
  {
   "cell_type": "code",
   "execution_count": 10,
   "id": "437ae323-ca71-43f7-938b-1dc7bbd6c0e9",
   "metadata": {},
   "outputs": [
    {
     "data": {
      "text/plain": [
       "dict_values([DecisionTreeClassifier(), RandomForestClassifier(), KNeighborsClassifier(), SVC(), LogisticRegression(), MLPClassifier()])"
      ]
     },
     "execution_count": 10,
     "metadata": {},
     "output_type": "execute_result"
    }
   ],
   "source": [
    "classificadores.values()"
   ]
  },
  {
   "cell_type": "markdown",
   "id": "870165b9-444a-476e-af5d-033d7adcb87f",
   "metadata": {},
   "source": [
    "Agora vamos criar variáveis que irão armazenar o valor de cada um dos algoritmos após o Grid Search. A estrutura é a seguinte:\n",
    "```python\n",
    "grid_search = GridSearchCV(estimator= ..., param_grid=...)\n",
    "grid_search.fit(X_credit, y_credit)\n",
    "best_params = grid_search.best_params_\n",
    "melhor_resultado = grid_search.best_score_\n",
    "```\n",
    "\n",
    "No estimators do GridSearch, equivale um loop sobre as chaves do dicionário classificadores."
   ]
  },
  {
   "cell_type": "code",
   "execution_count": 11,
   "id": "34d4d86b-c2c3-4b7a-a425-06304248e0a0",
   "metadata": {},
   "outputs": [],
   "source": [
    "melhores_parametros = {}\n",
    "melhores_resultados = {}\n",
    "\n",
    "\n",
    "# iterando sobre todos os modelos treinados\n",
    "for clf_name, clf in classificadores.items():\n",
    "    # print(f'{clf_name=}')\n",
    "    # print(f'estimator = {classificadores[clf_name]}, param_grid= {param_grids[clf_name]}')\n",
    "    # print()\n",
    "    grid_search = GridSearchCV(estimator=classificadores[clf_name], param_grid=param_grids[clf_name])\n",
    "    grid_search.fit(X_credit, y_credit)\n",
    "    melhores_parametros[clf_name] = grid_search.best_params_\n",
    "    melhores_resultados[clf_name] = grid_search.best_score_"
   ]
  },
  {
   "cell_type": "code",
   "execution_count": 12,
   "id": "f488c0ee-3a6f-4e8f-9d6a-4e7d1e046982",
   "metadata": {},
   "outputs": [
    {
     "data": {
      "text/plain": [
       "{'FOREST': {'criterion': 'entropy',\n",
       "  'min_samples_leaf': 1,\n",
       "  'min_samples_split': 5,\n",
       "  'splitter': 'best'},\n",
       " 'RF': {'criterion': 'entropy',\n",
       "  'min_samples_leaf': 1,\n",
       "  'min_samples_split': 2,\n",
       "  'n_estimators': 150},\n",
       " 'KNN': {'n_neighbors': 20, 'p': 1},\n",
       " 'SVM': {'C': 1.5, 'kernel': 'rbf', 'tol': 0.001},\n",
       " 'LR': {'C': 1.0, 'solver': 'lbfgs', 'tol': 0.0001},\n",
       " 'MLP': {'activation': 'relu', 'batch_size': 10, 'solver': 'adam'}}"
      ]
     },
     "execution_count": 12,
     "metadata": {},
     "output_type": "execute_result"
    }
   ],
   "source": [
    "melhores_parametros"
   ]
  },
  {
   "cell_type": "code",
   "execution_count": 13,
   "id": "2bcdc3e6-9de7-424d-8381-c253a0d3589e",
   "metadata": {},
   "outputs": [
    {
     "data": {
      "text/plain": [
       "{'FOREST': 0.983,\n",
       " 'RF': 0.9865,\n",
       " 'KNN': 0.9800000000000001,\n",
       " 'SVM': 0.9829999999999999,\n",
       " 'LR': 0.9484999999999999,\n",
       " 'MLP': 0.9964999999999999}"
      ]
     },
     "execution_count": 13,
     "metadata": {},
     "output_type": "execute_result"
    }
   ],
   "source": [
    "melhores_resultados"
   ]
  },
  {
   "cell_type": "markdown",
   "id": "9b1c1d70-fa2a-48d5-bf27-314dfcf036a9",
   "metadata": {},
   "source": [
    "### Visualizando os dados "
   ]
  },
  {
   "cell_type": "code",
   "execution_count": 14,
   "id": "27ceefa2-f3df-4fb6-9ec2-2390bd2e0b29",
   "metadata": {},
   "outputs": [],
   "source": [
    "import matplotlib.pyplot as plt\n",
    "import seaborn as sns"
   ]
  },
  {
   "cell_type": "code",
   "execution_count": 32,
   "id": "2b4b49df-9006-4245-b3e9-9ce2929d89d4",
   "metadata": {},
   "outputs": [
    {
     "data": {
      "image/png": "[encoded data removed]",
      "text/plain": [
       "<Figure size 1100x450 with 1 Axes>"
      ]
     },
     "metadata": {},
     "output_type": "display_data"
    }
   ],
   "source": [
    "# Figura Regressor\n",
    "fig, axs = plt.subplots(figsize=(11, 4.5))\n",
    "\n",
    "plt.title('Resultados')\n",
    "sns.barplot(x=melhores_resultados.keys(), y =melhores_resultados.values(), edgecolor='grey');"
   ]
  }
 ],
 "metadata": {
  "kernelspec": {
   "display_name": "Python 3 (ipykernel)",
   "language": "python",
   "name": "python3"
  },
  "language_info": {
   "codemirror_mode": {
    "name": "ipython",
    "version": 3
   },
   "file_extension": ".py",
   "mimetype": "text/x-python",
   "name": "python",
   "nbconvert_exporter": "python",
   "pygments_lexer": "ipython3",
   "version": "3.12.4"
  }
 },
 "nbformat": 4,
 "nbformat_minor": 5
}
