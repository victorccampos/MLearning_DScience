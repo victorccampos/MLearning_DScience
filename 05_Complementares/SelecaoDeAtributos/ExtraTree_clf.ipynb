{
 "cells": [
  {
   "cell_type": "code",
   "execution_count": null,
   "metadata": {},
   "outputs": [],
   "source": [
    "import pandas as pd\n",
    "import numpy as np\n",
    "\n",
    "from sklearn.compose import ColumnTransformer\n",
    "from sklearn.preprocessing import MinMaxScaler, LabelEncoder, OneHotEncoder\n",
    "from sklearn.model_selection import train_test_split\n",
    "from sklearn.metrics import accuracy_score\n",
    "from sklearn.ensemble import ExtraTreesClassifier, RandomForestClassifier"
   ]
  },
  {
   "cell_type": "markdown",
   "metadata": {},
   "source": [
    "`Aplicação e Benefícios`:\n",
    "\n",
    "- **Redução de Dimensionalidade**: Reduz o número de atributos, facilitando a interpretação dos dados e aumentando a eficiência dos modelos.\n",
    "\n",
    "- **Aprimoramento de Performance**: Modelos treinados com atributos selecionados frequentemente têm melhor performance e são mais rápidos para treinar.\n",
    "\n",
    "- **Detecção de Ruído**: Ajuda a identificar e remover atributos irrelevantes ou redundantes, melhorando a qualidade do modelo"
   ]
  },
  {
   "cell_type": "code",
   "execution_count": null,
   "metadata": {},
   "outputs": [],
   "source": [
    "census = pd.read_csv(\"census.csv\")\n",
    "colunas = census.columns[:-1] # todos os labels exceto income\n",
    "\n",
    "X: np.ndarray = census.iloc[:, 0:14].values \n",
    "y: np.ndarray = census.iloc[: ,14].values \n",
    "\n",
    "### Label Enconder\n",
    "encoder_workclass = LabelEncoder()\n",
    "encoder_education = LabelEncoder()\n",
    "encoder_marital= LabelEncoder()\n",
    "encoder_occupation = LabelEncoder()\n",
    "encoder_relationship = LabelEncoder()\n",
    "encoder_race = LabelEncoder()\n",
    "encoder_sex = LabelEncoder()\n",
    "encoder_country = LabelEncoder()\n",
    "\n",
    "\n",
    "X[:,1] = encoder_workclass.fit_transform(X[:,1])\n",
    "X[:,3] = encoder_education.fit_transform(X[:,3])\n",
    "X[:,5] = encoder_marital.fit_transform(X[:,5])\n",
    "X[:,6] = encoder_occupation.fit_transform(X[:,6])\n",
    "X[:,7] = encoder_relationship.fit_transform(X[:,7])\n",
    "\n",
    "X[:,8] = encoder_race.fit_transform(X[:,8])\n",
    "X[:,9] = encoder_sex.fit_transform(X[:,9])\n",
    "X[:,13] = encoder_country.fit_transform(X[:,13])\n",
    "\n",
    "### Padronizacao\n",
    "scaler = MinMaxScaler()\n",
    "X_scaled = scaler.fit_transform(X)\n",
    "X_scaled"
   ]
  },
  {
   "cell_type": "code",
   "execution_count": null,
   "metadata": {},
   "outputs": [],
   "source": [
    "X_scaled.shape"
   ]
  },
  {
   "cell_type": "code",
   "execution_count": null,
   "metadata": {},
   "outputs": [],
   "source": [
    "### Instanciando o Algoritmo de Seleção/Classificação\n",
    "selecao = ExtraTreesClassifier()\n",
    "selecao.fit(X=X_scaled, y=y)\n"
   ]
  },
  {
   "cell_type": "code",
   "execution_count": null,
   "metadata": {},
   "outputs": [],
   "source": [
    "colunas"
   ]
  },
  {
   "cell_type": "code",
   "execution_count": null,
   "metadata": {},
   "outputs": [],
   "source": [
    "### Valores em porcentagens\n",
    "importancias = selecao.feature_importances_\n",
    "\n",
    "importancias"
   ]
  },
  {
   "cell_type": "code",
   "execution_count": null,
   "metadata": {},
   "outputs": [],
   "source": [
    "THRESHOLD = 0.029\n",
    "indices = np.where(importancias > THRESHOLD)\n",
    "indices"
   ]
  },
  {
   "cell_type": "code",
   "execution_count": null,
   "metadata": {},
   "outputs": [],
   "source": [
    "print(colunas)\n",
    "print(colunas[indices])"
   ]
  },
  {
   "cell_type": "markdown",
   "metadata": {},
   "source": [
    "eliminamos race (8), sex(9), capital-loos (numérico), native-country(13)"
   ]
  },
  {
   "cell_type": "markdown",
   "metadata": {},
   "source": [
    "A partir daqui seria novamente a parte de pré-processamento mas agora com os novos atributos selecionados. O __accuracy__ nessa base não mudou significantemente com o random forest"
   ]
  }
 ],
 "metadata": {
  "kernelspec": {
   "display_name": "base",
   "language": "python",
   "name": "python3"
  },
  "language_info": {
   "codemirror_mode": {
    "name": "ipython",
    "version": 3
   },
   "file_extension": ".py",
   "mimetype": "text/x-python",
   "name": "python",
   "nbconvert_exporter": "python",
   "pygments_lexer": "ipython3",
   "version": "3.12.7"
  }
 },
 "nbformat": 4,
 "nbformat_minor": 2
}
