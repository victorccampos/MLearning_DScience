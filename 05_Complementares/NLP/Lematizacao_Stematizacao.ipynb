{
 "cells": [
  {
   "cell_type": "code",
   "execution_count": null,
   "metadata": {},
   "outputs": [],
   "source": [
    "# BeautifulSoup - WebScrapping\n",
    "import bs4 as bs \n",
    "import urllib.request \n",
    "\n",
    "# Natural Language Processing\n",
    "import nltk\n",
    "\n",
    "import spacy"
   ]
  },
  {
   "cell_type": "markdown",
   "metadata": {},
   "source": [
    "## Marcação POS\n",
    "\n",
    "- POS (part-of-speech) atribui para as palavras partes da fala: `substantivos, adjetivos, verbos`\n",
    "\n",
    "- Lista de tokens: https://spacy.io/api/annotation#pos-tagging\n",
    "- Português: https://www.sketchengine.eu/portuguese-freeling-part-of-speech-tagset/"
   ]
  },
  {
   "cell_type": "code",
   "execution_count": 5,
   "metadata": {},
   "outputs": [
    {
     "data": {
      "text/plain": [
       "spacy.lang.pt.Portuguese"
      ]
     },
     "execution_count": 5,
     "metadata": {},
     "output_type": "execute_result"
    }
   ],
   "source": [
    "nlp = spacy.load('pt_core_news_sm')\n",
    "type(nlp)"
   ]
  },
  {
   "cell_type": "code",
   "execution_count": 7,
   "metadata": {},
   "outputs": [
    {
     "data": {
      "text/plain": [
       "spacy.tokens.doc.Doc"
      ]
     },
     "execution_count": 7,
     "metadata": {},
     "output_type": "execute_result"
    }
   ],
   "source": [
    "# Processar o texto : a str dentro do objeto nlp\n",
    "string_teste = \"Estou aprendendo NLP, curso em Belo Horizonte\"\n",
    "\n",
    "documento = nlp(text=string_teste)\n",
    "type(documento)"
   ]
  },
  {
   "cell_type": "code",
   "execution_count": 8,
   "metadata": {},
   "outputs": [
    {
     "name": "stdout",
     "output_type": "stream",
     "text": [
      "Estou AUX\n",
      "aprendendo VERB\n",
      "NLP PROPN\n",
      ", PUNCT\n",
      "curso NOUN\n",
      "em ADP\n",
      "Belo PROPN\n",
      "Horizonte PROPN\n"
     ]
    }
   ],
   "source": [
    "for token in documento:\n",
    "    print(token.text, token.pos_)"
   ]
  },
  {
   "cell_type": "markdown",
   "metadata": {},
   "source": [
    "## Lematização  \n",
    "\n",
    "A __lematização__ consiste em transformar uma palavra na sua forma de __lemma__, ou seja, a forma básica que aparece em dicionários. Essa técnica leva em conta o contexto e a gramática da palavra, como sua classe gramatical (substantivo, verbo, adjetivo, etc.). É mais sofisticada que a stemização e frequentemente utiliza bases de dados linguísticos para garantir precisão."
   ]
  },
  {
   "cell_type": "code",
   "execution_count": 12,
   "metadata": {},
   "outputs": [
    {
     "name": "stdout",
     "output_type": "stream",
     "text": [
      "['encontrar', 'encontrar', 'encontrar', 'cursar', 'cursar', 'cursar', 'cursar']\n"
     ]
    }
   ],
   "source": [
    "doc_lematizacao = nlp(text='encontrei encontraram encontrarão cursam cursando cursei cursado')\n",
    "\n",
    "print([token.lemma_ for token in doc_lematizacao])"
   ]
  },
  {
   "cell_type": "markdown",
   "metadata": {},
   "source": [
    "## Stematização (Raiz)  \n",
    "\n",
    "A __stemização__ (ou stemming) reduz uma palavra à sua __raiz__ (stem), que pode ou não ser uma palavra válida em um idioma. É uma abordagem mais direta e geralmente baseada em regras simples, como cortar prefixos ou sufixos. Apesar de ser mais rápida e menos dependente de contexto, a stemização pode gerar resultados que não fazem sentido linguístico."
   ]
  },
  {
   "cell_type": "code",
   "execution_count": 13,
   "metadata": {},
   "outputs": [
    {
     "name": "stderr",
     "output_type": "stream",
     "text": [
      "[nltk_data] Downloading package rslp to\n",
      "[nltk_data]     /home/victorcampos/nltk_data...\n",
      "[nltk_data]   Package rslp is already up-to-date!\n"
     ]
    },
    {
     "data": {
      "text/plain": [
       "True"
      ]
     },
     "execution_count": 13,
     "metadata": {},
     "output_type": "execute_result"
    }
   ],
   "source": [
    "# Download de pacote para stemização com o nltk\n",
    "nltk.download('rslp')"
   ]
  },
  {
   "cell_type": "code",
   "execution_count": 14,
   "metadata": {},
   "outputs": [
    {
     "data": {
      "text/plain": [
       "'aprend'"
      ]
     },
     "execution_count": 14,
     "metadata": {},
     "output_type": "execute_result"
    }
   ],
   "source": [
    "from nltk.stem import RSLPStemmer\n",
    "\n",
    "stemmer: RSLPStemmer = RSLPStemmer()\n",
    "stemmer.stem('Aprender')"
   ]
  },
  {
   "cell_type": "code",
   "execution_count": 16,
   "metadata": {},
   "outputs": [
    {
     "name": "stdout",
     "output_type": "stream",
     "text": [
      "palavra = encontrei  Lema = encontrar Stem = encontr \n",
      "palavra = encontraram  Lema = encontrar Stem = encontr \n",
      "palavra = encontrarão  Lema = encontrar Stem = encontr \n",
      "palavra = cursam  Lema = cursar Stem = curs \n",
      "palavra = cursando  Lema = cursar Stem = curs \n",
      "palavra = cursei  Lema = cursar Stem = curs \n",
      "palavra = cursado  Lema = cursar Stem = curs \n"
     ]
    }
   ],
   "source": [
    "for token in doc_lematizacao:\n",
    "    print(f\"palavra = {token.text}  Lema = {token.lemma_} Stem = {stemmer.stem(token.text)} \")"
   ]
  }
 ],
 "metadata": {
  "kernelspec": {
   "display_name": "NLP",
   "language": "python",
   "name": "python3"
  },
  "language_info": {
   "codemirror_mode": {
    "name": "ipython",
    "version": 3
   },
   "file_extension": ".py",
   "mimetype": "text/x-python",
   "name": "python",
   "nbconvert_exporter": "python",
   "pygments_lexer": "ipython3",
   "version": "3.12.7"
  }
 },
 "nbformat": 4,
 "nbformat_minor": 2
}
