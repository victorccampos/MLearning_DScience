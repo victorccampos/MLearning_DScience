{
 "cells": [
  {
   "cell_type": "markdown",
   "id": "e8430a4b-c99c-42e0-8c4e-2cc212b43aa7",
   "metadata": {},
   "source": [
    "## Avaliando algoritmos de Classificação - Tuning de parâmetros com `GridSearch`  \n",
    "- Näive Bayes: 93.80   \n",
    "- Árvore de decisão: 98.2\n",
    "- Random Forest: 98.40\n",
    "- Regras: 97.40\n",
    "- Knn: 98.60\n",
    "- Regressão Logística: 94.60\n",
    "- SVM: 98.8"
   ]
  },
  {
   "cell_type": "code",
   "execution_count": 1,
   "id": "a7fedf73-64cb-4a88-8159-b8ca4d43d5b6",
   "metadata": {},
   "outputs": [],
   "source": [
    "import pickle\n",
    "import numpy as np\n",
    "import pandas as pd\n",
    "# Para não aparecer avisos de warning no GridSearchCV\n",
    "# Quando chegar na parte da rede neural - convergência\n",
    "import warnings\n",
    "warnings.filterwarnings('ignore')"
   ]
  },
  {
   "cell_type": "code",
   "execution_count": 2,
   "id": "1df51bcf-dbef-4624-8364-77e79816b3c5",
   "metadata": {},
   "outputs": [],
   "source": [
    "from sklearn.model_selection import GridSearchCV"
   ]
  },
  {
   "cell_type": "code",
   "execution_count": 3,
   "id": "a5729b35-9cab-4d23-8af6-782ae668f162",
   "metadata": {},
   "outputs": [],
   "source": [
    "from sklearn.tree import DecisionTreeClassifier      # Arvore de Decisão\n",
    "from sklearn.ensemble import RandomForestClassifier  # RandomForest\n",
    "from sklearn.neighbors import KNeighborsClassifier   # k-vizinhos mais próximos (KNN)\n",
    "from sklearn.linear_model import LogisticRegression # Regressão Logística\n",
    "from sklearn.svm import SVC                          # Maquina de Vetor Suporte SVM\n",
    "from sklearn.neural_network import MLPClassifier     # Multlayer Perceptron"
   ]
  },
  {
   "cell_type": "code",
   "execution_count": 4,
   "id": "c325c320-f483-401d-bad4-544fe06d73e4",
   "metadata": {},
   "outputs": [],
   "source": [
    "with open('credit.pkl', 'rb') as file:\n",
    "    X_credit_train, y_credit_train, X_credit_test, y_credit_test = pickle.load(file)"
   ]
  },
  {
   "cell_type": "code",
   "execution_count": 5,
   "id": "9d2a5e68-7652-41b8-b98b-3d3c482f3cb0",
   "metadata": {},
   "outputs": [
    {
     "name": "stdout",
     "output_type": "stream",
     "text": [
      "Base teste - shape: ((1500, 3), (1500,))\n",
      "Base treino - shape: ((500, 3), (500,))\n"
     ]
    }
   ],
   "source": [
    "print(f'Base teste - shape: {X_credit_train.shape, y_credit_train.shape}') # 1500\n",
    "print(f'Base treino - shape: {X_credit_test.shape, y_credit_test.shape}') # 500"
   ]
  },
  {
   "cell_type": "markdown",
   "id": "c8c07f1b-6699-4da8-b9ea-2355ab016c5e",
   "metadata": {},
   "source": [
    "Ao fazer o CrossValidation (CV) usaremos todos os registros. Para isso, concatena-se os arrays usando numpy."
   ]
  },
  {
   "cell_type": "code",
   "execution_count": 6,
   "id": "f0a910fc-fca9-47b0-a9b4-31f3f198249f",
   "metadata": {},
   "outputs": [
    {
     "name": "stdout",
     "output_type": "stream",
     "text": [
      "X_credit.shape=(2000, 3), y_credit.shape=(2000,)\n"
     ]
    }
   ],
   "source": [
    "X_credit = np.concatenate( (X_credit_train, X_credit_test), \n",
    "                          axis=0)\n",
    "y_credit = np.concatenate( (y_credit_train, y_credit_test),\n",
    "                          axis=0)\n",
    "\n",
    "print(f'{X_credit.shape=}, {y_credit.shape=}')"
   ]
  },
  {
   "cell_type": "markdown",
   "id": "aeac6e20-96ae-447c-b446-6d76455dd3bf",
   "metadata": {},
   "source": [
    "A classe GridSearchCV recebe como parâmetro `param_grid`. Abaixo encontra-se o dicionário contendo os parâmetros de cada classificador que iremos testar."
   ]
  },
  {
   "cell_type": "code",
   "execution_count": 7,
   "id": "18de423e-6293-46ad-a81d-32882f8bacbc",
   "metadata": {},
   "outputs": [],
   "source": [
    "params_forest = {\n",
    "    'criterion': ['gini', 'entropy'],\n",
    "    'splitter': ['best', 'random'],\n",
    "    'min_samples_split': [2, 5, 10],\n",
    "    'min_samples_leaf': [1, 5, 10]\n",
    "}\n",
    "params_rnd_forest = {\n",
    "    'criterion': ['gini', 'entropy'],\n",
    "    'n_estimators': [10, 40, 100, 150],\n",
    "    'min_samples_split': [2, 5, 10],\n",
    "    'min_samples_leaf': [1,5, 10]\n",
    "}\n",
    "params_knn = {'n_neighbors': [ 3, 5, 10, 20], 'p': [1, 2]}\n",
    "params_lr = {\n",
    "    'tol': [1e-4, 1e-5, 1e-6], \n",
    "    'C': [1.0, 1.5, 2.0],\n",
    "    'solver': ['lbfgs', 'sag', 'saga']\n",
    "}\n",
    "params_svm = {\n",
    "    'tol': [1e-3, 1e-4, 1e-5], \n",
    "    'C': [1.0, 1.5, 2.0],\n",
    "    'kernel': ['rbf', 'linear', 'poly', 'sigmoid']\n",
    "}\n",
    "params_mlpc = {\n",
    "    'activation': ['relu', 'logistic', 'tanh'],\n",
    "    'solver': ['adam', 'sgd'], \n",
    "    'batch_size': [10, 56]\n",
    "}"
   ]
  },
  {
   "cell_type": "code",
   "execution_count": 8,
   "id": "e1249f89-7b55-4fd0-9a30-d1fa39938c24",
   "metadata": {},
   "outputs": [],
   "source": [
    "### Instanciando os classificadores sem hiperparâmetros ###\n",
    "\n",
    "# Arvore de Decisao\n",
    "forest = DecisionTreeClassifier()\n",
    "\n",
    "# RandomForest\n",
    "rnd_forest = RandomForestClassifier() \n",
    "\n",
    "# KNN\n",
    "knn = KNeighborsClassifier()     \n",
    "\n",
    "# Regressao Linear\n",
    "lr = LogisticRegression()\n",
    "\n",
    "# SVM\n",
    "svm = SVC()\n",
    "\n",
    "# MLP \n",
    "mlpc = MLPClassifier()"
   ]
  },
  {
   "cell_type": "code",
   "execution_count": 9,
   "id": "0fe97178-829f-424f-a8d4-adc59b7b9d93",
   "metadata": {},
   "outputs": [],
   "source": [
    "classificadores = {\n",
    "    'FOREST': forest,\n",
    "    'RF': rnd_forest,\n",
    "    'KNN':knn,\n",
    "    'SVM':svm,\n",
    "    'LR':lr,\n",
    "    'MLP':mlpc\n",
    "}\n",
    "\n",
    "param_grids = {\n",
    "    'FOREST': params_forest,\n",
    "    'RF':params_rnd_forest,\n",
    "    'KNN':params_knn,\n",
    "    'SVM':params_svm,\n",
    "    'LR':params_lr,\n",
    "    'MLP':params_mlpc\n",
    "}"
   ]
  },
  {
   "cell_type": "code",
   "execution_count": 10,
   "id": "437ae323-ca71-43f7-938b-1dc7bbd6c0e9",
   "metadata": {},
   "outputs": [
    {
     "data": {
      "text/plain": [
       "dict_values([DecisionTreeClassifier(), RandomForestClassifier(), KNeighborsClassifier(), SVC(), LogisticRegression(), MLPClassifier()])"
      ]
     },
     "execution_count": 10,
     "metadata": {},
     "output_type": "execute_result"
    }
   ],
   "source": [
    "classificadores.values()"
   ]
  },
  {
   "cell_type": "markdown",
   "id": "870165b9-444a-476e-af5d-033d7adcb87f",
   "metadata": {},
   "source": [
    "Agora vamos criar variáveis que irão armazenar o valor de cada um dos algoritmos após o Grid Search. A estrutura é a seguinte:\n",
    "```python\n",
    "grid_search = GridSearchCV(estimator= ..., param_grid=...)\n",
    "grid_search.fit(X_credit, y_credit)\n",
    "best_params = grid_search.best_params_\n",
    "melhor_resultado = grid_search.best_score_\n",
    "```\n",
    "\n",
    "No estimators do GridSearch, equivale um loop sobre as chaves do dicionário classificadores."
   ]
  },
  {
   "cell_type": "code",
   "execution_count": 11,
   "id": "34d4d86b-c2c3-4b7a-a425-06304248e0a0",
   "metadata": {},
   "outputs": [],
   "source": [
    "melhores_parametros = {}\n",
    "melhores_resultados = {}\n",
    "\n",
    "\n",
    "# iterando sobre todos os modelos treinados\n",
    "for clf_name, clf in classificadores.items():\n",
    "    # print(f'{clf_name=}')\n",
    "    # print(f'estimator = {classificadores[clf_name]}, param_grid= {param_grids[clf_name]}')\n",
    "    # print()\n",
    "    grid_search = GridSearchCV(estimator=classificadores[clf_name], param_grid=param_grids[clf_name])\n",
    "    grid_search.fit(X_credit, y_credit)\n",
    "    melhores_parametros[clf_name] = grid_search.best_params_\n",
    "    melhores_resultados[clf_name] = grid_search.best_score_"
   ]
  },
  {
   "cell_type": "code",
   "execution_count": 12,
   "id": "f488c0ee-3a6f-4e8f-9d6a-4e7d1e046982",
   "metadata": {},
   "outputs": [
    {
     "data": {
      "text/plain": [
       "{'FOREST': {'criterion': 'entropy',\n",
       "  'min_samples_leaf': 1,\n",
       "  'min_samples_split': 5,\n",
       "  'splitter': 'best'},\n",
       " 'RF': {'criterion': 'entropy',\n",
       "  'min_samples_leaf': 1,\n",
       "  'min_samples_split': 2,\n",
       "  'n_estimators': 150},\n",
       " 'KNN': {'n_neighbors': 20, 'p': 1},\n",
       " 'SVM': {'C': 1.5, 'kernel': 'rbf', 'tol': 0.001},\n",
       " 'LR': {'C': 1.0, 'solver': 'lbfgs', 'tol': 0.0001},\n",
       " 'MLP': {'activation': 'relu', 'batch_size': 10, 'solver': 'adam'}}"
      ]
     },
     "execution_count": 12,
     "metadata": {},
     "output_type": "execute_result"
    }
   ],
   "source": [
    "melhores_parametros"
   ]
  },
  {
   "cell_type": "code",
   "execution_count": 13,
   "id": "2bcdc3e6-9de7-424d-8381-c253a0d3589e",
   "metadata": {},
   "outputs": [
    {
     "data": {
      "text/plain": [
       "{'FOREST': 0.983,\n",
       " 'RF': 0.986,\n",
       " 'KNN': 0.9800000000000001,\n",
       " 'SVM': 0.9829999999999999,\n",
       " 'LR': 0.9484999999999999,\n",
       " 'MLP': 0.9970000000000001}"
      ]
     },
     "execution_count": 13,
     "metadata": {},
     "output_type": "execute_result"
    }
   ],
   "source": [
    "melhores_resultados"
   ]
  },
  {
   "cell_type": "markdown",
   "id": "9b1c1d70-fa2a-48d5-bf27-314dfcf036a9",
   "metadata": {},
   "source": [
    "### Visualizando os dados "
   ]
  },
  {
   "cell_type": "code",
   "execution_count": 14,
   "id": "27ceefa2-f3df-4fb6-9ec2-2390bd2e0b29",
   "metadata": {},
   "outputs": [],
   "source": [
    "import matplotlib.pyplot as plt\n",
    "import seaborn as sns"
   ]
  },
  {
   "cell_type": "code",
   "execution_count": 15,
   "id": "2b4b49df-9006-4245-b3e9-9ce2929d89d4",
   "metadata": {},
   "outputs": [
    {
     "data": {
      "image/png": "[encoded data removed]",
      "text/plain": [
       "<Figure size 1100x450 with 1 Axes>"
      ]
     },
     "metadata": {},
     "output_type": "display_data"
    }
   ],
   "source": [
    "# Figura Regressor\n",
    "fig, axs = plt.subplots(figsize=(11, 4.5))\n",
    "\n",
    "plt.title('Resultados')\n",
    "sns.barplot(x=melhores_resultados.keys(), y =melhores_resultados.values(), edgecolor='grey');"
   ]
  },
  {
   "cell_type": "code",
   "execution_count": 16,
   "id": "c37e8d76",
   "metadata": {},
   "outputs": [],
   "source": [
    "### sklearn.model_selections \n",
    "# Ferramentas para a seleção de modelos como CrossValidation e tuning de hiperparâmetros\n",
    "\n",
    "\n",
    "from sklearn.model_selection import cross_val_score, KFold"
   ]
  },
  {
   "cell_type": "code",
   "execution_count": 17,
   "id": "bb8d1206",
   "metadata": {},
   "outputs": [
    {
     "data": {
      "text/plain": [
       "sklearn.model_selection._split.KFold"
      ]
     },
     "execution_count": 17,
     "metadata": {},
     "output_type": "execute_result"
    }
   ],
   "source": [
    "KFold"
   ]
  },
  {
   "cell_type": "code",
   "execution_count": 18,
   "id": "8848392c",
   "metadata": {},
   "outputs": [
    {
     "data": {
      "text/plain": [
       "{'criterion': 'entropy',\n",
       " 'min_samples_leaf': 1,\n",
       " 'min_samples_split': 5,\n",
       " 'splitter': 'best'}"
      ]
     },
     "execution_count": 18,
     "metadata": {},
     "output_type": "execute_result"
    }
   ],
   "source": [
    "melhores_parametros['FOREST']\n"
   ]
  },
  {
   "cell_type": "code",
   "execution_count": 19,
   "id": "9d9c27f1",
   "metadata": {},
   "outputs": [
    {
     "data": {
      "text/plain": [
       "{'FOREST': {'criterion': 'entropy',\n",
       "  'min_samples_leaf': 1,\n",
       "  'min_samples_split': 5,\n",
       "  'splitter': 'best'},\n",
       " 'RF': {'criterion': 'entropy',\n",
       "  'min_samples_leaf': 1,\n",
       "  'min_samples_split': 2,\n",
       "  'n_estimators': 150},\n",
       " 'KNN': {'n_neighbors': 20, 'p': 1},\n",
       " 'SVM': {'C': 1.5, 'kernel': 'rbf', 'tol': 0.001},\n",
       " 'LR': {'C': 1.0, 'solver': 'lbfgs', 'tol': 0.0001},\n",
       " 'MLP': {'activation': 'relu', 'batch_size': 10, 'solver': 'adam'}}"
      ]
     },
     "execution_count": 19,
     "metadata": {},
     "output_type": "execute_result"
    }
   ],
   "source": [
    " melhores_parametros"
   ]
  },
  {
   "cell_type": "code",
   "execution_count": 20,
   "id": "66f511f9",
   "metadata": {},
   "outputs": [],
   "source": [
    "# numero de folds = 10\n",
    "# numero de vezes executados = 30\n",
    "### 300 testes\n",
    "\n",
    "resultados_forest = []\n",
    "resultados_rf= []\n",
    "resultados_knn= []\n",
    "resultados_svm= []\n",
    "resultados_lr= []\n",
    "resultados_mlpc = []\n",
    "\n",
    "for i in range(30):\n",
    "    kfold = KFold(n_splits=10, shuffle=True, random_state=i)\n",
    "    \n",
    "    ### Instanciando os algoritmos e armazenando os resultados\n",
    "    \n",
    "    # arvore de decisao\n",
    "    arvore = DecisionTreeClassifier(criterion='entropy',min_samples_leaf=1, min_samples_split=5, splitter='best')\n",
    "    scores = cross_val_score(estimator=arvore, X=X_credit,y=y_credit,cv=kfold)\n",
    "    resultados_forest.append(scores.mean())\n",
    "    \n",
    "    # random forest\n",
    "    random_forest = RandomForestClassifier(criterion='entropy',min_samples_leaf=1, min_samples_split=2, n_estimators=40)\n",
    "    scores = cross_val_score(estimator=random_forest, X=X_credit,y=y_credit,cv=kfold)\n",
    "    resultados_rf.append(scores.mean())\n",
    "    \n",
    "    # knn\n",
    "    knn = KNeighborsClassifier(n_neighbors=20, p=1)\n",
    "    scores = cross_val_score(estimator=knn, X=X_credit,y=y_credit,cv=kfold)\n",
    "    resultados_knn.append(scores.mean())\n",
    "    \n",
    "    # Support Vector Machine\n",
    "    svm = SVC(C=1.5, kernel='rbf', tol=0.001)\n",
    "    scores = cross_val_score(estimator=svm, X=X_credit,y=y_credit,cv=kfold)\n",
    "    resultados_svm.append(scores.mean())\n",
    "\n",
    "    # Regressao Logistica\n",
    "    lr = LogisticRegression(C=1.0, solver='lbfgs',tol=0.0001)\n",
    "    scores = cross_val_score(estimator=lr, X=X_credit,y=y_credit,cv=kfold)\n",
    "    resultados_lr.append(scores.mean())\n",
    "    \n",
    "    # Rede Neural\n",
    "    mlpc = MLPClassifier(activation='relu',batch_size=56, solver='adam')\n",
    "    scores = cross_val_score(estimator=mlpc, X=X_credit,y=y_credit,cv=kfold)\n",
    "    resultados_mlpc.append(scores.mean())\n",
    "    \n",
    "    "
   ]
  },
  {
   "cell_type": "code",
   "execution_count": 21,
   "id": "6e430adc",
   "metadata": {},
   "outputs": [],
   "source": [
    "resultados = pd.DataFrame({\n",
    "    'Arvore': resultados_forest,\n",
    "    'RandomForest': resultados_rf,\n",
    "    'KNN': resultados_knn,\n",
    "    'SVM': resultados_svm,\n",
    "    'R_Logist': resultados_lr,\n",
    "    'Rede Neural': resultados_mlpc\n",
    "})"
   ]
  },
  {
   "cell_type": "code",
   "execution_count": 22,
   "id": "948689f2",
   "metadata": {},
   "outputs": [
    {
     "data": {
      "text/html": [
       "<div>\n",
       "<style scoped>\n",
       "    .dataframe tbody tr th:only-of-type {\n",
       "        vertical-align: middle;\n",
       "    }\n",
       "\n",
       "    .dataframe tbody tr th {\n",
       "        vertical-align: top;\n",
       "    }\n",
       "\n",
       "    .dataframe thead th {\n",
       "        text-align: right;\n",
       "    }\n",
       "</style>\n",
       "<table border=\"1\" class=\"dataframe\">\n",
       "  <thead>\n",
       "    <tr style=\"text-align: right;\">\n",
       "      <th></th>\n",
       "      <th>Arvore</th>\n",
       "      <th>RandomForest</th>\n",
       "      <th>KNN</th>\n",
       "      <th>SVM</th>\n",
       "      <th>R_Logist</th>\n",
       "      <th>Rede Neural</th>\n",
       "    </tr>\n",
       "  </thead>\n",
       "  <tbody>\n",
       "    <tr>\n",
       "      <th>0</th>\n",
       "      <td>0.9870</td>\n",
       "      <td>0.9835</td>\n",
       "      <td>0.9800</td>\n",
       "      <td>0.9835</td>\n",
       "      <td>0.9475</td>\n",
       "      <td>0.9970</td>\n",
       "    </tr>\n",
       "    <tr>\n",
       "      <th>1</th>\n",
       "      <td>0.9840</td>\n",
       "      <td>0.9850</td>\n",
       "      <td>0.9800</td>\n",
       "      <td>0.9840</td>\n",
       "      <td>0.9465</td>\n",
       "      <td>0.9980</td>\n",
       "    </tr>\n",
       "    <tr>\n",
       "      <th>2</th>\n",
       "      <td>0.9905</td>\n",
       "      <td>0.9885</td>\n",
       "      <td>0.9800</td>\n",
       "      <td>0.9835</td>\n",
       "      <td>0.9470</td>\n",
       "      <td>0.9970</td>\n",
       "    </tr>\n",
       "    <tr>\n",
       "      <th>3</th>\n",
       "      <td>0.9880</td>\n",
       "      <td>0.9865</td>\n",
       "      <td>0.9800</td>\n",
       "      <td>0.9845</td>\n",
       "      <td>0.9460</td>\n",
       "      <td>0.9970</td>\n",
       "    </tr>\n",
       "    <tr>\n",
       "      <th>4</th>\n",
       "      <td>0.9885</td>\n",
       "      <td>0.9880</td>\n",
       "      <td>0.9810</td>\n",
       "      <td>0.9855</td>\n",
       "      <td>0.9465</td>\n",
       "      <td>0.9975</td>\n",
       "    </tr>\n",
       "    <tr>\n",
       "      <th>5</th>\n",
       "      <td>0.9885</td>\n",
       "      <td>0.9870</td>\n",
       "      <td>0.9785</td>\n",
       "      <td>0.9835</td>\n",
       "      <td>0.9465</td>\n",
       "      <td>0.9975</td>\n",
       "    </tr>\n",
       "    <tr>\n",
       "      <th>6</th>\n",
       "      <td>0.9880</td>\n",
       "      <td>0.9865</td>\n",
       "      <td>0.9800</td>\n",
       "      <td>0.9840</td>\n",
       "      <td>0.9470</td>\n",
       "      <td>0.9970</td>\n",
       "    </tr>\n",
       "    <tr>\n",
       "      <th>7</th>\n",
       "      <td>0.9875</td>\n",
       "      <td>0.9845</td>\n",
       "      <td>0.9805</td>\n",
       "      <td>0.9845</td>\n",
       "      <td>0.9480</td>\n",
       "      <td>0.9970</td>\n",
       "    </tr>\n",
       "    <tr>\n",
       "      <th>8</th>\n",
       "      <td>0.9870</td>\n",
       "      <td>0.9870</td>\n",
       "      <td>0.9810</td>\n",
       "      <td>0.9820</td>\n",
       "      <td>0.9465</td>\n",
       "      <td>0.9970</td>\n",
       "    </tr>\n",
       "    <tr>\n",
       "      <th>9</th>\n",
       "      <td>0.9870</td>\n",
       "      <td>0.9865</td>\n",
       "      <td>0.9810</td>\n",
       "      <td>0.9830</td>\n",
       "      <td>0.9465</td>\n",
       "      <td>0.9970</td>\n",
       "    </tr>\n",
       "  </tbody>\n",
       "</table>\n",
       "</div>"
      ],
      "text/plain": [
       "   Arvore  RandomForest     KNN     SVM  R_Logist  Rede Neural\n",
       "0  0.9870        0.9835  0.9800  0.9835    0.9475       0.9970\n",
       "1  0.9840        0.9850  0.9800  0.9840    0.9465       0.9980\n",
       "2  0.9905        0.9885  0.9800  0.9835    0.9470       0.9970\n",
       "3  0.9880        0.9865  0.9800  0.9845    0.9460       0.9970\n",
       "4  0.9885        0.9880  0.9810  0.9855    0.9465       0.9975\n",
       "5  0.9885        0.9870  0.9785  0.9835    0.9465       0.9975\n",
       "6  0.9880        0.9865  0.9800  0.9840    0.9470       0.9970\n",
       "7  0.9875        0.9845  0.9805  0.9845    0.9480       0.9970\n",
       "8  0.9870        0.9870  0.9810  0.9820    0.9465       0.9970\n",
       "9  0.9870        0.9865  0.9810  0.9830    0.9465       0.9970"
      ]
     },
     "execution_count": 22,
     "metadata": {},
     "output_type": "execute_result"
    }
   ],
   "source": [
    "### Mostrando apenas 10 de 30 resultados\n",
    "resultados.head(10)"
   ]
  },
  {
   "cell_type": "code",
   "execution_count": 23,
   "id": "b73b6849",
   "metadata": {},
   "outputs": [
    {
     "data": {
      "text/html": [
       "<div>\n",
       "<style scoped>\n",
       "    .dataframe tbody tr th:only-of-type {\n",
       "        vertical-align: middle;\n",
       "    }\n",
       "\n",
       "    .dataframe tbody tr th {\n",
       "        vertical-align: top;\n",
       "    }\n",
       "\n",
       "    .dataframe thead th {\n",
       "        text-align: right;\n",
       "    }\n",
       "</style>\n",
       "<table border=\"1\" class=\"dataframe\">\n",
       "  <thead>\n",
       "    <tr style=\"text-align: right;\">\n",
       "      <th></th>\n",
       "      <th>Arvore</th>\n",
       "      <th>RandomForest</th>\n",
       "      <th>KNN</th>\n",
       "      <th>SVM</th>\n",
       "      <th>R_Logist</th>\n",
       "      <th>Rede Neural</th>\n",
       "    </tr>\n",
       "  </thead>\n",
       "  <tbody>\n",
       "    <tr>\n",
       "      <th>count</th>\n",
       "      <td>30.000000</td>\n",
       "      <td>30.000000</td>\n",
       "      <td>30.000000</td>\n",
       "      <td>30.000000</td>\n",
       "      <td>30.000000</td>\n",
       "      <td>30.000000</td>\n",
       "    </tr>\n",
       "    <tr>\n",
       "      <th>mean</th>\n",
       "      <td>0.987300</td>\n",
       "      <td>0.986450</td>\n",
       "      <td>0.980200</td>\n",
       "      <td>0.983983</td>\n",
       "      <td>0.947000</td>\n",
       "      <td>0.997267</td>\n",
       "    </tr>\n",
       "    <tr>\n",
       "      <th>std</th>\n",
       "      <td>0.001584</td>\n",
       "      <td>0.001626</td>\n",
       "      <td>0.001270</td>\n",
       "      <td>0.001141</td>\n",
       "      <td>0.000743</td>\n",
       "      <td>0.000450</td>\n",
       "    </tr>\n",
       "    <tr>\n",
       "      <th>min</th>\n",
       "      <td>0.983500</td>\n",
       "      <td>0.983000</td>\n",
       "      <td>0.977500</td>\n",
       "      <td>0.982000</td>\n",
       "      <td>0.945500</td>\n",
       "      <td>0.996500</td>\n",
       "    </tr>\n",
       "    <tr>\n",
       "      <th>25%</th>\n",
       "      <td>0.986625</td>\n",
       "      <td>0.985500</td>\n",
       "      <td>0.979625</td>\n",
       "      <td>0.983500</td>\n",
       "      <td>0.946500</td>\n",
       "      <td>0.997000</td>\n",
       "    </tr>\n",
       "    <tr>\n",
       "      <th>50%</th>\n",
       "      <td>0.987250</td>\n",
       "      <td>0.986500</td>\n",
       "      <td>0.980000</td>\n",
       "      <td>0.984000</td>\n",
       "      <td>0.947000</td>\n",
       "      <td>0.997000</td>\n",
       "    </tr>\n",
       "    <tr>\n",
       "      <th>75%</th>\n",
       "      <td>0.988000</td>\n",
       "      <td>0.987875</td>\n",
       "      <td>0.981000</td>\n",
       "      <td>0.984500</td>\n",
       "      <td>0.947500</td>\n",
       "      <td>0.997500</td>\n",
       "    </tr>\n",
       "    <tr>\n",
       "      <th>max</th>\n",
       "      <td>0.990500</td>\n",
       "      <td>0.989000</td>\n",
       "      <td>0.983500</td>\n",
       "      <td>0.987000</td>\n",
       "      <td>0.948500</td>\n",
       "      <td>0.998500</td>\n",
       "    </tr>\n",
       "  </tbody>\n",
       "</table>\n",
       "</div>"
      ],
      "text/plain": [
       "          Arvore  RandomForest        KNN        SVM   R_Logist  Rede Neural\n",
       "count  30.000000     30.000000  30.000000  30.000000  30.000000    30.000000\n",
       "mean    0.987300      0.986450   0.980200   0.983983   0.947000     0.997267\n",
       "std     0.001584      0.001626   0.001270   0.001141   0.000743     0.000450\n",
       "min     0.983500      0.983000   0.977500   0.982000   0.945500     0.996500\n",
       "25%     0.986625      0.985500   0.979625   0.983500   0.946500     0.997000\n",
       "50%     0.987250      0.986500   0.980000   0.984000   0.947000     0.997000\n",
       "75%     0.988000      0.987875   0.981000   0.984500   0.947500     0.997500\n",
       "max     0.990500      0.989000   0.983500   0.987000   0.948500     0.998500"
      ]
     },
     "execution_count": 23,
     "metadata": {},
     "output_type": "execute_result"
    }
   ],
   "source": [
    "resultados.describe()"
   ]
  },
  {
   "cell_type": "code",
   "execution_count": 24,
   "id": "4d33cef5",
   "metadata": {},
   "outputs": [
    {
     "data": {
      "text/plain": [
       "Arvore          2.510345e-06\n",
       "RandomForest    2.643966e-06\n",
       "KNN             1.613793e-06\n",
       "SVM             1.301437e-06\n",
       "R_Logist        5.517241e-07\n",
       "Rede Neural     2.022989e-07\n",
       "dtype: float64"
      ]
     },
     "execution_count": 24,
     "metadata": {},
     "output_type": "execute_result"
    }
   ],
   "source": [
    "# Variancia\n",
    "resultados.var()"
   ]
  },
  {
   "cell_type": "code",
   "execution_count": 25,
   "id": "62e061e0",
   "metadata": {},
   "outputs": [
    {
     "data": {
      "text/plain": [
       "Arvore          0.001584\n",
       "RandomForest    0.001626\n",
       "KNN             0.001270\n",
       "SVM             0.001141\n",
       "R_Logist        0.000743\n",
       "Rede Neural     0.000450\n",
       "dtype: float64"
      ]
     },
     "execution_count": 25,
     "metadata": {},
     "output_type": "execute_result"
    }
   ],
   "source": [
    "# Desvio padrão\n",
    "resultados.std()\n"
   ]
  },
  {
   "cell_type": "code",
   "execution_count": 26,
   "id": "ebffb6d5",
   "metadata": {},
   "outputs": [
    {
     "name": "stdout",
     "output_type": "stream",
     "text": [
      "CV's (%):\t \n",
      "Arvore          0.160479\n",
      "RandomForest    0.164836\n",
      "KNN             0.129601\n",
      "SVM             0.115937\n",
      "R_Logist        0.078435\n",
      "Rede Neural     0.045101\n",
      "dtype: float64\n"
     ]
    }
   ],
   "source": [
    "# Coeficiente de Variação\n",
    "\n",
    "print(f\"CV's (%):\\t \\n{(resultados.std() / resultados.mean())* 100}\")"
   ]
  },
  {
   "cell_type": "code",
   "execution_count": 27,
   "id": "63b9c26a-d9ab-45a5-b783-af9224724fd3",
   "metadata": {},
   "outputs": [],
   "source": [
    "resultados.to_csv('resultados_classificacao.csv', index=False)"
   ]
  }
 ],
 "metadata": {
  "kernelspec": {
   "display_name": "Python 3 (ipykernel)",
   "language": "python",
   "name": "python3"
  },
  "language_info": {
   "codemirror_mode": {
    "name": "ipython",
    "version": 3
   },
   "file_extension": ".py",
   "mimetype": "text/x-python",
   "name": "python",
   "nbconvert_exporter": "python",
   "pygments_lexer": "ipython3",
   "version": "3.12.4"
  }
 },
 "nbformat": 4,
 "nbformat_minor": 5
}
